{
 "cells": [
  {
   "cell_type": "code",
   "source": [
    "print(\"hello\")"
   ],
   "metadata": {
    "collapsed": false,
    "pycharm": {
     "name": "#%%\n",
     "is_executing": false
    }
   },
   "execution_count": 31,
   "outputs": [
    {
     "name": "stdout",
     "text": [
      "hello\n"
     ],
     "output_type": "stream"
    }
   ]
  },
  {
   "cell_type": "code",
   "execution_count": 32,
   "metadata": {
    "pycharm": {
     "is_executing": false
    }
   },
   "outputs": [],
   "source": [
    "from IPython.display import display, Math, Latex, HTML\n",
    "\n",
    "import pyAgrum as gum\n",
    "import pyAgrum.lib.notebook as gnb\n",
    "import pyAgrum.lib.pretty_print as pprint\n",
    "import pyAgrum.causal as csl\n",
    "import pyAgrum.causal.notebook as cslnb\n",
    "import os\n",
    "\n",
    "gum.config[\"notebook\", \"default_graph_size\"] = 10"
   ]
  },
  {
   "cell_type": "code",
   "execution_count": 33,
   "metadata": {
    "colab": {
     "base_uri": "https://localhost:8080/",
     "height": 316
    },
    "colab_type": "code",
    "id": "iZP5dWIcR_8m",
    "outputId": "50eeac01-2d2a-41f0-a328-24d8fb8dd810",
    "pycharm": {
     "is_executing": false
    }
   },
   "outputs": [
    {
     "data": {
      "text/plain": "<IPython.core.display.SVG object>",
      "image/svg+xml": "<svg height=\"404pt\" viewBox=\"0.00 0.00 477.18 404.00\" width=\"477pt\" xmlns=\"http://www.w3.org/2000/svg\" xmlns:xlink=\"http://www.w3.org/1999/xlink\">\n<g class=\"graph\" id=\"graph0\" transform=\"scale(1 1) rotate(0) translate(4 400)\">\n<title>G</title>\n<!-- AlcoholAndDrugs -->\n<g class=\"node\" id=\"node1\">\n<title>AlcoholAndDrugs</title>\n<g id=\"a_node1\"><a xlink:title=\"(0) AlcoholAndDrugs\">\n<ellipse cx=\"98.51\" cy=\"-162\" fill=\"#404040\" rx=\"75.39\" ry=\"18\" stroke=\"black\"/>\n<text fill=\"white\" font-family=\"Times,serif\" font-size=\"14.00\" text-anchor=\"middle\" x=\"98.51\" y=\"-157.8\">AlcoholAndDrugs</text>\n</a>\n</g>\n</g>\n<!-- Aggressions -->\n<g class=\"node\" id=\"node3\">\n<title>Aggressions</title>\n<g id=\"a_node3\"><a xlink:title=\"(2) Aggressions\">\n<ellipse cx=\"166.51\" cy=\"-90\" fill=\"#404040\" rx=\"53.66\" ry=\"18\" stroke=\"black\"/>\n<text fill=\"white\" font-family=\"Times,serif\" font-size=\"14.00\" text-anchor=\"middle\" x=\"166.51\" y=\"-85.8\">Aggressions</text>\n</a>\n</g>\n</g>\n<!-- AlcoholAndDrugs&#45;&gt;Aggressions -->\n<g class=\"edge\" id=\"edge12\">\n<title>AlcoholAndDrugs-&gt;Aggressions</title>\n<g id=\"a_edge12\"><a xlink:title=\"(0, 2) : \">\n<path d=\"M114.63,-144.41C123.18,-135.61 133.84,-124.63 143.28,-114.92\" fill=\"none\" stroke=\"#4a4a4a\"/>\n<polygon fill=\"#4a4a4a\" points=\"146.05,-117.08 150.51,-107.47 141.03,-112.2 146.05,-117.08\" stroke=\"#4a4a4a\"/>\n</a>\n</g>\n</g>\n<!-- CityZone -->\n<g class=\"node\" id=\"node2\">\n<title>CityZone</title>\n<g id=\"a_node2\"><a xlink:title=\"(1) CityZone\">\n<ellipse cx=\"43.51\" cy=\"-306\" fill=\"#404040\" rx=\"43.52\" ry=\"18\" stroke=\"black\"/>\n<text fill=\"white\" font-family=\"Times,serif\" font-size=\"14.00\" text-anchor=\"middle\" x=\"43.51\" y=\"-301.8\">CityZone</text>\n</a>\n</g>\n</g>\n<!-- CityZone&#45;&gt;AlcoholAndDrugs -->\n<g class=\"edge\" id=\"edge6\">\n<title>CityZone-&gt;AlcoholAndDrugs</title>\n<g id=\"a_edge6\"><a xlink:title=\"(1, 0) : \">\n<path d=\"M45.17,-288.01C47.4,-269.65 52.34,-239.83 62.51,-216 66.6,-206.43 72.5,-196.78 78.35,-188.39\" fill=\"none\" stroke=\"#4a4a4a\"/>\n<polygon fill=\"#4a4a4a\" points=\"81.29,-190.29 84.35,-180.15 75.63,-186.17 81.29,-190.29\" stroke=\"#4a4a4a\"/>\n</a>\n</g>\n</g>\n<!-- CityZone&#45;&gt;Aggressions -->\n<g class=\"edge\" id=\"edge1\">\n<title>CityZone-&gt;Aggressions</title>\n<g id=\"a_edge1\"><a xlink:title=\"(1, 2) : \">\n<path d=\"M33.06,-288.18C15.03,-256.79 -17.07,-188.46 14.51,-144 34.83,-115.4 71.76,-102.11 104.13,-95.98\" fill=\"none\" stroke=\"#4a4a4a\"/>\n<polygon fill=\"#4a4a4a\" points=\"104.74,-99.43 114.01,-94.3 103.56,-92.53 104.74,-99.43\" stroke=\"#4a4a4a\"/>\n</a>\n</g>\n</g>\n<!-- SocialMeetingPoints -->\n<g class=\"node\" id=\"node10\">\n<title>SocialMeetingPoints</title>\n<g id=\"a_node10\"><a xlink:title=\"(9) SocialMeetingPoints\">\n<ellipse cx=\"155.51\" cy=\"-234\" fill=\"#404040\" rx=\"83.6\" ry=\"18\" stroke=\"black\"/>\n<text fill=\"white\" font-family=\"Times,serif\" font-size=\"14.00\" text-anchor=\"middle\" x=\"155.51\" y=\"-229.8\">SocialMeetingPoints</text>\n</a>\n</g>\n</g>\n<!-- CityZone&#45;&gt;SocialMeetingPoints -->\n<g class=\"edge\" id=\"edge8\">\n<title>CityZone-&gt;SocialMeetingPoints</title>\n<g id=\"a_edge8\"><a xlink:title=\"(1, 9) : \">\n<path d=\"M66.45,-290.67C82.03,-280.92 102.94,-267.85 120.59,-256.83\" fill=\"none\" stroke=\"#4a4a4a\"/>\n<polygon fill=\"#4a4a4a\" points=\"122.85,-259.54 129.47,-251.28 119.14,-253.61 122.85,-259.54\" stroke=\"#4a4a4a\"/>\n</a>\n</g>\n</g>\n<!-- LifeQuality -->\n<g class=\"node\" id=\"node6\">\n<title>LifeQuality</title>\n<g id=\"a_node6\"><a xlink:title=\"(5) LifeQuality\">\n<ellipse cx=\"315.51\" cy=\"-18\" fill=\"#404040\" rx=\"51.22\" ry=\"18\" stroke=\"black\"/>\n<text fill=\"white\" font-family=\"Times,serif\" font-size=\"14.00\" text-anchor=\"middle\" x=\"315.51\" y=\"-13.8\">LifeQuality</text>\n</a>\n</g>\n</g>\n<!-- Aggressions&#45;&gt;LifeQuality -->\n<g class=\"edge\" id=\"edge11\">\n<title>Aggressions-&gt;LifeQuality</title>\n<g id=\"a_edge11\"><a xlink:title=\"(2, 5) : \">\n<path d=\"M196.31,-75C219.42,-64.14 251.66,-49 276.78,-37.2\" fill=\"none\" stroke=\"#4a4a4a\"/>\n<polygon fill=\"#4a4a4a\" points=\"278.46,-40.27 286.02,-32.85 275.48,-33.94 278.46,-40.27\" stroke=\"#4a4a4a\"/>\n</a>\n</g>\n</g>\n<!-- Richness -->\n<g class=\"node\" id=\"node4\">\n<title>Richness</title>\n<g id=\"a_node4\"><a xlink:title=\"(3) Richness\">\n<ellipse cx=\"293.51\" cy=\"-306\" fill=\"#404040\" rx=\"42.08\" ry=\"18\" stroke=\"black\"/>\n<text fill=\"white\" font-family=\"Times,serif\" font-size=\"14.00\" text-anchor=\"middle\" x=\"293.51\" y=\"-301.8\">Richness</text>\n</a>\n</g>\n</g>\n<!-- Richness&#45;&gt;AlcoholAndDrugs -->\n<g class=\"edge\" id=\"edge5\">\n<title>Richness-&gt;AlcoholAndDrugs</title>\n<g id=\"a_edge5\"><a xlink:title=\"(3, 0) : \">\n<path d=\"M289.07,-287.84C283.06,-267.92 270.49,-235.32 248.51,-216 226.06,-196.27 195.79,-183.75 168.32,-175.87\" fill=\"none\" stroke=\"#4a4a4a\"/>\n<polygon fill=\"#4a4a4a\" points=\"168.92,-172.4 158.35,-173.17 167.09,-179.16 168.92,-172.4\" stroke=\"#4a4a4a\"/>\n</a>\n</g>\n</g>\n<!-- Richness&#45;&gt;LifeQuality -->\n<g class=\"edge\" id=\"edge14\">\n<title>Richness-&gt;LifeQuality</title>\n<g id=\"a_edge14\"><a xlink:title=\"(3, 5) : \">\n<path d=\"M294.82,-287.97C298.49,-240.29 308.88,-105.18 313.39,-46.63\" fill=\"none\" stroke=\"#4a4a4a\"/>\n<polygon fill=\"#4a4a4a\" points=\"316.9,-46.55 314.18,-36.31 309.92,-46.01 316.9,-46.55\" stroke=\"#4a4a4a\"/>\n</a>\n</g>\n</g>\n<!-- PublicServices -->\n<g class=\"node\" id=\"node7\">\n<title>PublicServices</title>\n<g id=\"a_node7\"><a xlink:title=\"(6) PublicServices\">\n<ellipse cx=\"406.51\" cy=\"-90\" fill=\"#404040\" rx=\"62.83\" ry=\"18\" stroke=\"black\"/>\n<text fill=\"white\" font-family=\"Times,serif\" font-size=\"14.00\" text-anchor=\"middle\" x=\"406.51\" y=\"-85.8\">PublicServices</text>\n</a>\n</g>\n</g>\n<!-- Richness&#45;&gt;PublicServices -->\n<g class=\"edge\" id=\"edge9\">\n<title>Richness-&gt;PublicServices</title>\n<g id=\"a_edge9\"><a xlink:title=\"(3, 6) : \">\n<path d=\"M305.52,-288.7C312.86,-278.43 322.2,-264.73 329.51,-252 355.8,-206.23 381.21,-150.07 395.26,-117.62\" fill=\"none\" stroke=\"#4a4a4a\"/>\n<polygon fill=\"#4a4a4a\" points=\"398.51,-118.92 399.24,-108.35 392.08,-116.16 398.51,-118.92\" stroke=\"#4a4a4a\"/>\n</a>\n</g>\n</g>\n<!-- Richness&#45;&gt;SocialMeetingPoints -->\n<g class=\"edge\" id=\"edge7\">\n<title>Richness-&gt;SocialMeetingPoints</title>\n<g id=\"a_edge7\"><a xlink:title=\"(3, 9) : \">\n<path d=\"M267.55,-291.83C247.29,-281.55 218.78,-267.09 195.59,-255.33\" fill=\"none\" stroke=\"#4a4a4a\"/>\n<polygon fill=\"#4a4a4a\" points=\"197.17,-252.21 186.67,-250.8 194,-258.45 197.17,-252.21\" stroke=\"#4a4a4a\"/>\n</a>\n</g>\n</g>\n<!-- DayPeriod -->\n<g class=\"node\" id=\"node5\">\n<title>DayPeriod</title>\n<g id=\"a_node5\"><a xlink:title=\"(4) DayPeriod\">\n<ellipse cx=\"239.51\" cy=\"-162\" fill=\"#404040\" rx=\"47.86\" ry=\"18\" stroke=\"black\"/>\n<text fill=\"white\" font-family=\"Times,serif\" font-size=\"14.00\" text-anchor=\"middle\" x=\"239.51\" y=\"-157.8\">DayPeriod</text>\n</a>\n</g>\n</g>\n<!-- DayPeriod&#45;&gt;Aggressions -->\n<g class=\"edge\" id=\"edge10\">\n<title>DayPeriod-&gt;Aggressions</title>\n<g id=\"a_edge10\"><a xlink:title=\"(4, 2) : \">\n<path d=\"M222.58,-144.76C213.09,-135.66 201.09,-124.16 190.64,-114.13\" fill=\"none\" stroke=\"#4a4a4a\"/>\n<polygon fill=\"#4a4a4a\" points=\"192.99,-111.54 183.35,-107.15 188.15,-116.59 192.99,-111.54\" stroke=\"#4a4a4a\"/>\n</a>\n</g>\n</g>\n<!-- PublicServices&#45;&gt;LifeQuality -->\n<g class=\"edge\" id=\"edge13\">\n<title>PublicServices-&gt;LifeQuality</title>\n<g id=\"a_edge13\"><a xlink:title=\"(6, 5) : \">\n<path d=\"M385.41,-72.76C373.06,-63.27 357.31,-51.15 343.88,-40.82\" fill=\"none\" stroke=\"#4a4a4a\"/>\n<polygon fill=\"#4a4a4a\" points=\"345.94,-37.99 335.88,-34.67 341.67,-43.54 345.94,-37.99\" stroke=\"#4a4a4a\"/>\n</a>\n</g>\n</g>\n<!-- jobAccessability -->\n<g class=\"node\" id=\"node8\">\n<title>jobAccessability</title>\n<g id=\"a_node8\"><a xlink:title=\"(7) jobAccessability\">\n<ellipse cx=\"224.51\" cy=\"-378\" fill=\"#404040\" rx=\"69.1\" ry=\"18\" stroke=\"black\"/>\n<text fill=\"white\" font-family=\"Times,serif\" font-size=\"14.00\" text-anchor=\"middle\" x=\"224.51\" y=\"-373.8\">jobAccessability</text>\n</a>\n</g>\n</g>\n<!-- jobAccessability&#45;&gt;Richness -->\n<g class=\"edge\" id=\"edge2\">\n<title>jobAccessability-&gt;Richness</title>\n<g id=\"a_edge2\"><a xlink:title=\"(7, 3) : \">\n<path d=\"M240.86,-360.41C249.76,-351.39 260.9,-340.09 270.64,-330.21\" fill=\"none\" stroke=\"#4a4a4a\"/>\n<polygon fill=\"#4a4a4a\" points=\"273.22,-332.57 277.75,-322.99 268.24,-327.65 273.22,-332.57\" stroke=\"#4a4a4a\"/>\n</a>\n</g>\n</g>\n<!-- StudyLevel -->\n<g class=\"node\" id=\"node9\">\n<title>StudyLevel</title>\n<g id=\"a_node9\"><a xlink:title=\"(8) StudyLevel\">\n<ellipse cx=\"362.51\" cy=\"-378\" fill=\"#404040\" rx=\"50.76\" ry=\"18\" stroke=\"black\"/>\n<text fill=\"white\" font-family=\"Times,serif\" font-size=\"14.00\" text-anchor=\"middle\" x=\"362.51\" y=\"-373.8\">StudyLevel</text>\n</a>\n</g>\n</g>\n<!-- StudyLevel&#45;&gt;Richness -->\n<g class=\"edge\" id=\"edge4\">\n<title>StudyLevel-&gt;Richness</title>\n<g id=\"a_edge4\"><a xlink:title=\"(8, 3) : \">\n<path d=\"M346.51,-360.76C337.63,-351.75 326.42,-340.39 316.6,-330.43\" fill=\"none\" stroke=\"#4a4a4a\"/>\n<polygon fill=\"#4a4a4a\" points=\"318.94,-327.81 309.43,-323.15 313.96,-332.73 318.94,-327.81\" stroke=\"#4a4a4a\"/>\n</a>\n</g>\n</g>\n<!-- SocialMeetingPoints&#45;&gt;AlcoholAndDrugs -->\n<g class=\"edge\" id=\"edge3\">\n<title>SocialMeetingPoints-&gt;AlcoholAndDrugs</title>\n<g id=\"a_edge3\"><a xlink:title=\"(9, 0) : \">\n<path d=\"M141.71,-216.05C134.78,-207.54 126.25,-197.07 118.61,-187.68\" fill=\"none\" stroke=\"#4a4a4a\"/>\n<polygon fill=\"#4a4a4a\" points=\"121.21,-185.33 112.18,-179.79 115.78,-189.75 121.21,-185.33\" stroke=\"#4a4a4a\"/>\n</a>\n</g>\n</g>\n</g>\n</svg>"
     },
     "metadata": {},
     "output_type": "display_data"
    }
   ],
   "source": [
    "netString = (\"AlcoholAndDrugs{high|low}<-CityZone{downtown|suburbs}->Aggressions{high|low};\"\n",
    "             \"Richness{high|low}->AlcoholAndDrugs->Aggressions;\"\n",
    "             \"DayPeriod{day|night}->Aggressions->LifeQuality{high|low}<-PublicServices{high|low}<-Richness;\"\n",
    "             \"jobAccessability{high|low}->Richness<-StudyLevel{high|low};\"\n",
    "             \"AlcoholAndDrugs<-SocialMeetingPoints{high|low};Richness->LifeQuality;\"\n",
    "             \"Richness->SocialMeetingPoints<-CityZone\")\n",
    "net = gum.fastBN(netString)\n",
    "gnb.showBN(net)"
   ]
  },
  {
   "cell_type": "code",
   "execution_count": 34,
   "metadata": {
    "pycharm": {
     "is_executing": false
    }
   },
   "outputs": [
    {
     "data": {
      "text/plain": "<IPython.core.display.HTML object>",
      "text/html": "<table style=\"border-style: hidden; border-collapse: collapse;\" width=\"100%\"><tr><td style=\"border-top:hidden;border-bottom:hidden;\"><div align=\"center\" style=\"\"><table style=\"border:1px solid black;\">\n<tr style='border:1px solid black;color:black;background-color:#808080'><th colspan='2'><center>jobAccessability</center></th></tr>\n<tr><th style='border:1px solid black;border-bottom-style: double;color:black;background-color:#BBBBBB'><center>high</center></th><th style='border:1px solid black;border-bottom-style: double;color:black;background-color:#BBBBBB'><center>low</center></th></tr>\n<tr><td style='color:black;background-color:#b2cb64;text-align:right;'>0.6000</td><td style='color:black;background-color:#cbb264;text-align:right;'>0.4000</td></tr>\n</table></div></td><td style=\"border-top:hidden;border-bottom:hidden;\"><div align=\"center\" style=\"\"><table style=\"border:1px solid black;\">\n<tr style='border:1px solid black;color:black;background-color:#808080'><th colspan='2'><center>StudyLevel</center></th></tr>\n<tr><th style='border:1px solid black;border-bottom-style: double;color:black;background-color:#BBBBBB'><center>high</center></th><th style='border:1px solid black;border-bottom-style: double;color:black;background-color:#BBBBBB'><center>low</center></th></tr>\n<tr><td style='color:black;background-color:#a5d864;text-align:right;'>0.7000</td><td style='color:black;background-color:#d8a564;text-align:right;'>0.3000</td></tr>\n</table></div></td><td style=\"border-top:hidden;border-bottom:hidden;\"><div align=\"center\" style=\"\"><table style=\"border:1px solid black;\">\n<tr style='border:1px solid black;color:black;background-color:#808080'><th colspan='2'><center>CityZone</center></th></tr>\n<tr><th style='border:1px solid black;border-bottom-style: double;color:black;background-color:#BBBBBB'><center>downtown</center></th><th style='border:1px solid black;border-bottom-style: double;color:black;background-color:#BBBBBB'><center>suburbs</center></th></tr>\n<tr><td style='color:black;background-color:#d8a564;text-align:right;'>0.3000</td><td style='color:black;background-color:#a5d864;text-align:right;'>0.7000</td></tr>\n</table></div></td><td style=\"border-top:hidden;border-bottom:hidden;\"><div align=\"center\" style=\"\"><table style=\"border:1px solid black;\">\n<tr><th colspan='2'></th><th colspan='2' style='border:1px solid black;color:black;background-color:#808080;'><center>Richness</center></th></tr>\n<tr><th style='border:1px solid black;color:black;background-color:#808080'><center>StudyLevel</center></th><th style='border:1px solid black;color:black;background-color:#808080'><center>jobAccessability</center></th><th style='border:1px solid black;border-bottom-style: double;color:black;background-color:#BBBBBB'><center>high</center></th><th style='border:1px solid black;border-bottom-style: double;color:black;background-color:#BBBBBB'><center>low</center></th></tr>\n<tr><th style='border:1px solid black;color:black;background-color:#BBBBBB;' rowspan = '2'><center>high</center></th><th style='border:1px solid black;color:black;background-color:#BBBBBB'><center>high</center></th><td style='color:black;background-color:#7fff64;text-align:right;'>1.0000</td><td style='color:black;background-color:#ff7f64;text-align:right;'>0.0000</td></tr>\n<tr><th style='border:1px solid black;color:black;background-color:#BBBBBB'><center>low</center></th><td style='color:black;background-color:#d8a564;text-align:right;'>0.3000</td><td style='color:black;background-color:#a5d864;text-align:right;'>0.7000</td></tr>\n<tr><th style='border:1px solid black;color:black;background-color:#BBBBBB;' rowspan = '2'><center>low</center></th><th style='border:1px solid black;color:black;background-color:#BBBBBB'><center>high</center></th><td style='color:black;background-color:#98e564;text-align:right;'>0.8000</td><td style='color:black;background-color:#e59864;text-align:right;'>0.2000</td></tr>\n<tr><th style='border:1px solid black;color:black;background-color:#BBBBBB'><center>low</center></th><td style='color:black;background-color:#ff7f64;text-align:right;'>0.0000</td><td style='color:black;background-color:#7fff64;text-align:right;'>1.0000</td></tr>\n</table></div></td><td style=\"border-top:hidden;border-bottom:hidden;\"><div align=\"center\" style=\"\"><table style=\"border:1px solid black;\">\n<tr><th colspan='2'></th><th colspan='2' style='border:1px solid black;color:black;background-color:#808080;'><center>SocialMeetingPoints</center></th></tr>\n<tr><th style='border:1px solid black;color:black;background-color:#808080'><center>CityZone</center></th><th style='border:1px solid black;color:black;background-color:#808080'><center>Richness</center></th><th style='border:1px solid black;border-bottom-style: double;color:black;background-color:#BBBBBB'><center>high</center></th><th style='border:1px solid black;border-bottom-style: double;color:black;background-color:#BBBBBB'><center>low</center></th></tr>\n<tr><th style='border:1px solid black;color:black;background-color:#BBBBBB;' rowspan = '2'><center>downtown</center></th><th style='border:1px solid black;color:black;background-color:#BBBBBB'><center>high</center></th><td style='color:black;background-color:#b2cb64;text-align:right;'>0.6000</td><td style='color:black;background-color:#cbb264;text-align:right;'>0.4000</td></tr>\n<tr><th style='border:1px solid black;color:black;background-color:#BBBBBB'><center>low</center></th><td style='color:black;background-color:#d8a564;text-align:right;'>0.3000</td><td style='color:black;background-color:#a5d864;text-align:right;'>0.7000</td></tr>\n<tr><th style='border:1px solid black;color:black;background-color:#BBBBBB;' rowspan = '2'><center>suburbs</center></th><th style='border:1px solid black;color:black;background-color:#BBBBBB'><center>high</center></th><td style='color:black;background-color:#98e564;text-align:right;'>0.8000</td><td style='color:black;background-color:#e59864;text-align:right;'>0.2000</td></tr>\n<tr><th style='border:1px solid black;color:black;background-color:#BBBBBB'><center>low</center></th><td style='color:black;background-color:#cbb264;text-align:right;'>0.4000</td><td style='color:black;background-color:#b2cb64;text-align:right;'>0.6000</td></tr>\n</table></div></td><td style=\"border-top:hidden;border-bottom:hidden;\"><div align=\"center\" style=\"\"><table style=\"border:1px solid black;\">\n<tr style='border:1px solid black;color:black;background-color:#808080'><th colspan='2'><center>DayPeriod</center></th></tr>\n<tr><th style='border:1px solid black;border-bottom-style: double;color:black;background-color:#BBBBBB'><center>day</center></th><th style='border:1px solid black;border-bottom-style: double;color:black;background-color:#BBBBBB'><center>night</center></th></tr>\n<tr><td style='color:black;background-color:#bfbf64;text-align:right;'>0.5000</td><td style='color:black;background-color:#bfbf64;text-align:right;'>0.5000</td></tr>\n</table></div></td><td style=\"border-top:hidden;border-bottom:hidden;\"><div align=\"center\" style=\"\"><table style=\"border:1px solid black;\">\n<tr><th colspan='3'></th><th colspan='2' style='border:1px solid black;color:black;background-color:#808080;'><center>AlcoholAndDrugs</center></th></tr>\n<tr><th style='border:1px solid black;color:black;background-color:#808080'><center>SocialMeetingPoints</center></th><th style='border:1px solid black;color:black;background-color:#808080'><center>Richness</center></th><th style='border:1px solid black;color:black;background-color:#808080'><center>CityZone</center></th><th style='border:1px solid black;border-bottom-style: double;color:black;background-color:#BBBBBB'><center>high</center></th><th style='border:1px solid black;border-bottom-style: double;color:black;background-color:#BBBBBB'><center>low</center></th></tr>\n<tr><th style='border:1px solid black;color:black;background-color:#BBBBBB;' rowspan = '4'><center>high</center></th><th style='border:1px solid black;color:black;background-color:#BBBBBB;' rowspan = '2'><center>high</center></th><th style='border:1px solid black;color:black;background-color:#BBBBBB'><center>downtown</center></th><td style='color:black;background-color:#b2cb64;text-align:right;'>0.6000</td><td style='color:black;background-color:#cbb264;text-align:right;'>0.4000</td></tr>\n<tr><th style='border:1px solid black;color:black;background-color:#BBBBBB'><center>suburbs</center></th><td style='color:black;background-color:#a5d864;text-align:right;'>0.7000</td><td style='color:black;background-color:#d8a564;text-align:right;'>0.3000</td></tr>\n<tr><th style='border:1px solid black;color:black;background-color:#BBBBBB;' rowspan = '2'><center>low</center></th><th style='border:1px solid black;color:black;background-color:#BBBBBB'><center>downtown</center></th><td style='color:black;background-color:#d8a564;text-align:right;'>0.3000</td><td style='color:black;background-color:#a5d864;text-align:right;'>0.7000</td></tr>\n<tr><th style='border:1px solid black;color:black;background-color:#BBBBBB'><center>suburbs</center></th><td style='color:black;background-color:#bfbf64;text-align:right;'>0.5000</td><td style='color:black;background-color:#bfbf64;text-align:right;'>0.5000</td></tr>\n<tr><th style='border:1px solid black;color:black;background-color:#BBBBBB;' rowspan = '4'><center>low</center></th><th style='border:1px solid black;color:black;background-color:#BBBBBB;' rowspan = '2'><center>high</center></th><th style='border:1px solid black;color:black;background-color:#BBBBBB'><center>downtown</center></th><td style='color:black;background-color:#d8a564;text-align:right;'>0.3000</td><td style='color:black;background-color:#a5d864;text-align:right;'>0.7000</td></tr>\n<tr><th style='border:1px solid black;color:black;background-color:#BBBBBB'><center>suburbs</center></th><td style='color:black;background-color:#8bf264;text-align:right;'>0.9000</td><td style='color:black;background-color:#f28b64;text-align:right;'>0.1000</td></tr>\n<tr><th style='border:1px solid black;color:black;background-color:#BBBBBB;' rowspan = '2'><center>low</center></th><th style='border:1px solid black;color:black;background-color:#BBBBBB'><center>downtown</center></th><td style='color:black;background-color:#85f864;text-align:right;'>0.9500</td><td style='color:black;background-color:#f88564;text-align:right;'>0.0500</td></tr>\n<tr><th style='border:1px solid black;color:black;background-color:#BBBBBB'><center>suburbs</center></th><td style='color:black;background-color:#85f864;text-align:right;'>0.9500</td><td style='color:black;background-color:#f88564;text-align:right;'>0.0500</td></tr>\n</table></div></td><td style=\"border-top:hidden;border-bottom:hidden;\"><div align=\"center\" style=\"\"><table style=\"border:1px solid black;\">\n<tr><th colspan='3'></th><th colspan='2' style='border:1px solid black;color:black;background-color:#808080;'><center>Aggressions</center></th></tr>\n<tr><th style='border:1px solid black;color:black;background-color:#808080'><center>DayPeriod</center></th><th style='border:1px solid black;color:black;background-color:#808080'><center>AlcoholAndDrugs</center></th><th style='border:1px solid black;color:black;background-color:#808080'><center>CityZone</center></th><th style='border:1px solid black;border-bottom-style: double;color:black;background-color:#BBBBBB'><center>high</center></th><th style='border:1px solid black;border-bottom-style: double;color:black;background-color:#BBBBBB'><center>low</center></th></tr>\n<tr><th style='border:1px solid black;color:black;background-color:#BBBBBB;' rowspan = '4'><center>day</center></th><th style='border:1px solid black;color:black;background-color:#BBBBBB;' rowspan = '2'><center>high</center></th><th style='border:1px solid black;color:black;background-color:#BBBBBB'><center>downtown</center></th><td style='color:black;background-color:#b2cb64;text-align:right;'>0.6000</td><td style='color:black;background-color:#cbb264;text-align:right;'>0.4000</td></tr>\n<tr><th style='border:1px solid black;color:black;background-color:#BBBBBB'><center>suburbs</center></th><td style='color:black;background-color:#98e564;text-align:right;'>0.8000</td><td style='color:black;background-color:#e59864;text-align:right;'>0.2000</td></tr>\n<tr><th style='border:1px solid black;color:black;background-color:#BBBBBB;' rowspan = '2'><center>low</center></th><th style='border:1px solid black;color:black;background-color:#BBBBBB'><center>downtown</center></th><td style='color:black;background-color:#f28b64;text-align:right;'>0.1000</td><td style='color:black;background-color:#8bf264;text-align:right;'>0.9000</td></tr>\n<tr><th style='border:1px solid black;color:black;background-color:#BBBBBB'><center>suburbs</center></th><td style='color:black;background-color:#a5d864;text-align:right;'>0.7000</td><td style='color:black;background-color:#d8a564;text-align:right;'>0.3000</td></tr>\n<tr><th style='border:1px solid black;color:black;background-color:#BBBBBB;' rowspan = '4'><center>night</center></th><th style='border:1px solid black;color:black;background-color:#BBBBBB;' rowspan = '2'><center>high</center></th><th style='border:1px solid black;color:black;background-color:#BBBBBB'><center>downtown</center></th><td style='color:black;background-color:#a5d864;text-align:right;'>0.7000</td><td style='color:black;background-color:#d8a564;text-align:right;'>0.3000</td></tr>\n<tr><th style='border:1px solid black;color:black;background-color:#BBBBBB'><center>suburbs</center></th><td style='color:black;background-color:#85f864;text-align:right;'>0.9500</td><td style='color:black;background-color:#f88564;text-align:right;'>0.0500</td></tr>\n<tr><th style='border:1px solid black;color:black;background-color:#BBBBBB;' rowspan = '2'><center>low</center></th><th style='border:1px solid black;color:black;background-color:#BBBBBB'><center>downtown</center></th><td style='color:black;background-color:#e59864;text-align:right;'>0.2000</td><td style='color:black;background-color:#98e564;text-align:right;'>0.8000</td></tr>\n<tr><th style='border:1px solid black;color:black;background-color:#BBBBBB'><center>suburbs</center></th><td style='color:black;background-color:#98e564;text-align:right;'>0.8000</td><td style='color:black;background-color:#e59864;text-align:right;'>0.2000</td></tr>\n</table></div></td><td style=\"border-top:hidden;border-bottom:hidden;\"><div align=\"center\" style=\"\"><table style=\"border:1px solid black;\">\n<tr><th colspan='3'></th><th colspan='2' style='border:1px solid black;color:black;background-color:#808080;'><center>LifeQuality</center></th></tr>\n<tr><th style='border:1px solid black;color:black;background-color:#808080'><center>Richness</center></th><th style='border:1px solid black;color:black;background-color:#808080'><center>PublicServices</center></th><th style='border:1px solid black;color:black;background-color:#808080'><center>Aggressions</center></th><th style='border:1px solid black;border-bottom-style: double;color:black;background-color:#BBBBBB'><center>high</center></th><th style='border:1px solid black;border-bottom-style: double;color:black;background-color:#BBBBBB'><center>low</center></th></tr>\n<tr><th style='border:1px solid black;color:black;background-color:#BBBBBB;' rowspan = '4'><center>high</center></th><th style='border:1px solid black;color:black;background-color:#BBBBBB;' rowspan = '2'><center>high</center></th><th style='border:1px solid black;color:black;background-color:#BBBBBB'><center>high</center></th><td style='color:black;background-color:#98e564;text-align:right;'>0.8000</td><td style='color:black;background-color:#e59864;text-align:right;'>0.2000</td></tr>\n<tr><th style='border:1px solid black;color:black;background-color:#BBBBBB'><center>low</center></th><td style='color:black;background-color:#85f864;text-align:right;'>0.9500</td><td style='color:black;background-color:#f88564;text-align:right;'>0.0500</td></tr>\n<tr><th style='border:1px solid black;color:black;background-color:#BBBBBB;' rowspan = '2'><center>low</center></th><th style='border:1px solid black;color:black;background-color:#BBBBBB'><center>high</center></th><td style='color:black;background-color:#a5d864;text-align:right;'>0.7000</td><td style='color:black;background-color:#d8a564;text-align:right;'>0.3000</td></tr>\n<tr><th style='border:1px solid black;color:black;background-color:#BBBBBB'><center>low</center></th><td style='color:black;background-color:#85f864;text-align:right;'>0.9500</td><td style='color:black;background-color:#f88564;text-align:right;'>0.0500</td></tr>\n<tr><th style='border:1px solid black;color:black;background-color:#BBBBBB;' rowspan = '4'><center>low</center></th><th style='border:1px solid black;color:black;background-color:#BBBBBB;' rowspan = '2'><center>high</center></th><th style='border:1px solid black;color:black;background-color:#BBBBBB'><center>high</center></th><td style='color:black;background-color:#b2cb64;text-align:right;'>0.6000</td><td style='color:black;background-color:#cbb264;text-align:right;'>0.4000</td></tr>\n<tr><th style='border:1px solid black;color:black;background-color:#BBBBBB'><center>low</center></th><td style='color:black;background-color:#a5d864;text-align:right;'>0.7000</td><td style='color:black;background-color:#d8a564;text-align:right;'>0.3000</td></tr>\n<tr><th style='border:1px solid black;color:black;background-color:#BBBBBB;' rowspan = '2'><center>low</center></th><th style='border:1px solid black;color:black;background-color:#BBBBBB'><center>high</center></th><td style='color:black;background-color:#f28b64;text-align:right;'>0.1000</td><td style='color:black;background-color:#8bf264;text-align:right;'>0.9000</td></tr>\n<tr><th style='border:1px solid black;color:black;background-color:#BBBBBB'><center>low</center></th><td style='color:black;background-color:#98e564;text-align:right;'>0.8000</td><td style='color:black;background-color:#e59864;text-align:right;'>0.2000</td></tr>\n</table></div></td></tr></table>"
     },
     "metadata": {},
     "output_type": "display_data"
    }
   ],
   "source": [
    "net.cpt(\"jobAccessability\")[:] = [0.6,0.4]\n",
    "net.cpt(\"StudyLevel\")[:] = [0.7,0.3]\n",
    "net.cpt(\"CityZone\")[:] = [0.3,0.7]\n",
    "net.cpt(\"DayPeriod\")[:] = [0.5,0.5]\n",
    "\n",
    "\n",
    "net.cpt(\"Richness\")[{'jobAccessability':'high','StudyLevel':'high'}] = [1,0]\n",
    "net.cpt(\"Richness\")[{'jobAccessability':'high','StudyLevel':'low'}] = [0.8,0.2]\n",
    "net.cpt(\"Richness\")[{'jobAccessability':'low','StudyLevel':'high'}] = [0.3,0.7]\n",
    "net.cpt(\"Richness\")[{'jobAccessability':'low','StudyLevel':'low'}] = [0,1]\n",
    "\n",
    "net.cpt(\"SocialMeetingPoints\")[{'Richness':'high','CityZone':'downtown'}] = [0.6,0.4]\n",
    "net.cpt(\"SocialMeetingPoints\")[{'Richness':'high','CityZone':'suburbs'}] = [0.8,0.2]\n",
    "net.cpt(\"SocialMeetingPoints\")[{'Richness':'low','CityZone':'downtown'}] = [0.3,0.7]\n",
    "net.cpt(\"SocialMeetingPoints\")[{'Richness':'low','CityZone':'suburbs'}] = [0.4,0.6]\n",
    "\n",
    "net.cpt(\"AlcoholAndDrugs\")[{'Richness':'high','SocialMeetingPoints':'high', 'CityZone':'downtown'}] = [0.6,0.4]\n",
    "net.cpt(\"AlcoholAndDrugs\")[{'Richness':'high','SocialMeetingPoints':'high', 'CityZone':'suburbs'}] = [0.7,0.3]\n",
    "net.cpt(\"AlcoholAndDrugs\")[{'Richness':'high','SocialMeetingPoints':'low', 'CityZone':'downtown'}] = [0.3,0.7]\n",
    "net.cpt(\"AlcoholAndDrugs\")[{'Richness':'high','SocialMeetingPoints':'low', 'CityZone':'suburbs'}] = [0.9,0.1]\n",
    "net.cpt(\"AlcoholAndDrugs\")[{'Richness':'low','SocialMeetingPoints':'high', 'CityZone':'suburbs'}] = [0.5,0.5]\n",
    "net.cpt(\"AlcoholAndDrugs\")[{'Richness':'low','SocialMeetingPoints':'high', 'CityZone':'downtown'}] = [0.3,0.7]\n",
    "net.cpt(\"AlcoholAndDrugs\")[{'Richness':'low','SocialMeetingPoints':'low', 'CityZone':'suburbs'}] = [0.95,0.05]\n",
    "net.cpt(\"AlcoholAndDrugs\")[{'Richness':'low','SocialMeetingPoints':'low', 'CityZone':'downtown'}] = [0.95,0.05]\n",
    "\n",
    "net.cpt(\"Aggressions\")[{'CityZone':'downtown','AlcoholAndDrugs':'high', 'DayPeriod':'day'}] = [0.6,0.4]\n",
    "net.cpt(\"Aggressions\")[{'CityZone':'downtown','AlcoholAndDrugs':'high', 'DayPeriod':'night'}] = [0.7,0.3]\n",
    "net.cpt(\"Aggressions\")[{'CityZone':'downtown','AlcoholAndDrugs':'low', 'DayPeriod':'day'}] = [0.1,0.9]\n",
    "net.cpt(\"Aggressions\")[{'CityZone':'downtown','AlcoholAndDrugs':'low', 'DayPeriod':'night'}] = [0.2,0.8]\n",
    "net.cpt(\"Aggressions\")[{'CityZone':'suburbs','AlcoholAndDrugs':'high', 'DayPeriod':'day'}] = [0.8,0.2]\n",
    "net.cpt(\"Aggressions\")[{'CityZone':'suburbs','AlcoholAndDrugs':'high', 'DayPeriod':'night'}] = [0.95,0.05]\n",
    "net.cpt(\"Aggressions\")[{'CityZone':'suburbs','AlcoholAndDrugs':'low', 'DayPeriod':'day'}] = [0.7,0.3]\n",
    "net.cpt(\"Aggressions\")[{'CityZone':'suburbs','AlcoholAndDrugs':'low', 'DayPeriod':'night'}] = [0.8,0.2]\n",
    "\n",
    "net.cpt(\"PublicServices\")[{'Richness':'high'}] = [0.95,0.05]\n",
    "net.cpt(\"PublicServices\")[{'Richness':'low'}] = [0.05,0.95]\n",
    "\n",
    "net.cpt(\"LifeQuality\")[{'Aggressions':'high','Richness':'high', 'PublicServices':'high'}] = [0.8,0.2]\n",
    "net.cpt(\"LifeQuality\")[{'Aggressions':'high','Richness':'high', 'PublicServices':'low'}] = [0.7,0.3]\n",
    "net.cpt(\"LifeQuality\")[{'Aggressions':'high','Richness':'low', 'PublicServices':'high'}] = [0.6,0.4]\n",
    "net.cpt(\"LifeQuality\")[{'Aggressions':'high','Richness':'low', 'PublicServices':'low'}] = [0.1,0.9]\n",
    "net.cpt(\"LifeQuality\")[{'Aggressions':'low','Richness':'high', 'PublicServices':'high'}] = [0.95,0.05]\n",
    "net.cpt(\"LifeQuality\")[{'Aggressions':'low','Richness':'high', 'PublicServices':'low'}] = [0.95,0.05]\n",
    "net.cpt(\"LifeQuality\")[{'Aggressions':'low','Richness':'low', 'PublicServices':'high'}] = [0.7,0.3]\n",
    "net.cpt(\"LifeQuality\")[{'Aggressions':'low','Richness':'low', 'PublicServices':'low'}] = [0.8,0.2]\n",
    "\n",
    "gnb.sideBySide(\n",
    "    net.cpt(\"jobAccessability\"), \n",
    "    net.cpt(\"StudyLevel\"), \n",
    "    net.cpt(\"CityZone\"),\n",
    "    net.cpt(\"Richness\"),\n",
    "    net.cpt(\"SocialMeetingPoints\"),\n",
    "    net.cpt(\"DayPeriod\"),\n",
    "    net.cpt(\"AlcoholAndDrugs\"),\n",
    "    net.cpt(\"Aggressions\"),\n",
    "    net.cpt(\"LifeQuality\"))"
   ]
  },
  {
   "cell_type": "code",
   "execution_count": 35,
   "outputs": [
    {
     "name": "stdout",
     "text": [
      "The chosen variables are SocialMeetingPoints and Aggressions\n"
     ],
     "output_type": "stream"
    },
    {
     "data": {
      "text/plain": "<IPython.core.display.HTML object>",
      "text/html": "<table style=\"border-style: hidden; border-collapse: collapse;\" width=\"100%\"><tr><td style=\"border-top:hidden;border-bottom:hidden;\"><div align=\"center\" style=\"\"><svg height=\"404pt\" viewBox=\"0.00 0.00 477.18 404.00\" width=\"477pt\" xmlns=\"http://www.w3.org/2000/svg\" xmlns:xlink=\"http://www.w3.org/1999/xlink\">\n<g class=\"graph\" id=\"graph0\" transform=\"scale(1 1) rotate(0) translate(4 400)\">\n<title>G</title>\n<!-- AlcoholAndDrugs -->\n<g class=\"node\" id=\"node1\">\n<title>AlcoholAndDrugs</title>\n<ellipse cx=\"98.51\" cy=\"-162\" fill=\"#404040\" rx=\"75.39\" ry=\"18\" stroke=\"#4a4a4a\"/>\n<text fill=\"white\" font-family=\"Times,serif\" font-size=\"14.00\" text-anchor=\"middle\" x=\"98.51\" y=\"-157.8\">AlcoholAndDrugs</text>\n</g>\n<!-- Aggressions -->\n<g class=\"node\" id=\"node3\">\n<title>Aggressions</title>\n<ellipse cx=\"166.51\" cy=\"-90\" fill=\"#404040\" rx=\"53.66\" ry=\"18\" stroke=\"#4a4a4a\"/>\n<text fill=\"white\" font-family=\"Times,serif\" font-size=\"14.00\" text-anchor=\"middle\" x=\"166.51\" y=\"-85.8\">Aggressions</text>\n</g>\n<!-- AlcoholAndDrugs&#45;&gt;Aggressions -->\n<g class=\"edge\" id=\"edge12\">\n<title>AlcoholAndDrugs-&gt;Aggressions</title>\n<path d=\"M113.91,-143.71C122.46,-134.91 133.13,-123.93 142.56,-114.22\" fill=\"none\" stroke=\"#4a4a4a\"/>\n<path d=\"M115.34,-145.11C123.9,-136.3 134.56,-125.33 143.99,-115.62\" fill=\"none\" stroke=\"#4a4a4a\"/>\n<polygon fill=\"#4a4a4a\" points=\"146.05,-117.08 150.51,-107.47 141.03,-112.2 146.05,-117.08\" stroke=\"#4a4a4a\"/>\n</g>\n<!-- CityZone -->\n<g class=\"node\" id=\"node2\">\n<title>CityZone</title>\n<ellipse cx=\"43.51\" cy=\"-306\" fill=\"#404040\" rx=\"43.52\" ry=\"18\" stroke=\"#4a4a4a\"/>\n<text fill=\"white\" font-family=\"Times,serif\" font-size=\"14.00\" text-anchor=\"middle\" x=\"43.51\" y=\"-301.8\">CityZone</text>\n</g>\n<!-- CityZone&#45;&gt;AlcoholAndDrugs -->\n<g class=\"edge\" id=\"edge6\">\n<title>CityZone-&gt;AlcoholAndDrugs</title>\n<path d=\"M44.18,-287.89C46.42,-269.49 51.35,-239.67 61.59,-215.61 65.74,-205.91 71.65,-196.26 77.53,-187.82\" fill=\"none\" stroke=\"#4a4a4a\"/>\n<path d=\"M46.16,-288.13C48.39,-269.82 53.32,-239.99 63.43,-216.39 67.45,-206.96 73.35,-197.31 79.17,-188.96\" fill=\"none\" stroke=\"#4a4a4a\"/>\n<polygon fill=\"#4a4a4a\" points=\"81.29,-190.29 84.35,-180.15 75.63,-186.17 81.29,-190.29\" stroke=\"#4a4a4a\"/>\n</g>\n<!-- CityZone&#45;&gt;Aggressions -->\n<g class=\"edge\" id=\"edge1\">\n<title>CityZone-&gt;Aggressions</title>\n<path d=\"M32.19,-288.68C14.13,-257.22 -17.97,-188.88 13.7,-143.42 34.49,-114.46 71.42,-101.17 103.95,-95\" fill=\"none\" stroke=\"#4a4a4a\"/>\n<path d=\"M33.93,-287.68C15.94,-256.37 -16.16,-188.03 15.33,-144.58 35.16,-116.34 72.1,-103.05 104.32,-96.97\" fill=\"none\" stroke=\"#4a4a4a\"/>\n<polygon fill=\"#4a4a4a\" points=\"104.74,-99.43 114.01,-94.3 103.56,-92.53 104.74,-99.43\" stroke=\"#4a4a4a\"/>\n</g>\n<!-- SocialMeetingPoints -->\n<g class=\"node\" id=\"node10\">\n<title>SocialMeetingPoints</title>\n<ellipse cx=\"155.51\" cy=\"-234\" fill=\"#404040\" rx=\"83.6\" ry=\"18\" stroke=\"#4a4a4a\"/>\n<text fill=\"white\" font-family=\"Times,serif\" font-size=\"14.00\" text-anchor=\"middle\" x=\"155.51\" y=\"-229.8\">SocialMeetingPoints</text>\n</g>\n<!-- CityZone&#45;&gt;SocialMeetingPoints -->\n<g class=\"edge\" id=\"edge8\">\n<title>CityZone-&gt;SocialMeetingPoints</title>\n<path d=\"M65.92,-289.82C81.5,-280.08 102.41,-267.01 120.06,-255.98\" fill=\"none\" stroke=\"#4a4a4a\"/>\n<path d=\"M66.98,-291.51C82.56,-281.77 103.47,-268.7 121.12,-257.68\" fill=\"none\" stroke=\"#4a4a4a\"/>\n<polygon fill=\"#4a4a4a\" points=\"122.85,-259.54 129.47,-251.28 119.14,-253.61 122.85,-259.54\" stroke=\"#4a4a4a\"/>\n</g>\n<!-- LifeQuality -->\n<g class=\"node\" id=\"node6\">\n<title>LifeQuality</title>\n<ellipse cx=\"315.51\" cy=\"-18\" fill=\"#404040\" rx=\"51.22\" ry=\"18\" stroke=\"#4a4a4a\"/>\n<text fill=\"white\" font-family=\"Times,serif\" font-size=\"14.00\" text-anchor=\"middle\" x=\"315.51\" y=\"-13.8\">LifeQuality</text>\n</g>\n<!-- Aggressions&#45;&gt;LifeQuality -->\n<g class=\"edge\" id=\"edge11\">\n<title>Aggressions-&gt;LifeQuality</title>\n<path d=\"M195.88,-74.1C219,-63.24 251.23,-48.09 276.35,-36.29\" fill=\"none\" stroke=\"#4a4a4a\"/>\n<path d=\"M196.73,-75.91C219.85,-65.05 252.08,-49.9 277.2,-38.1\" fill=\"none\" stroke=\"#4a4a4a\"/>\n<polygon fill=\"#4a4a4a\" points=\"278.46,-40.27 286.02,-32.85 275.48,-33.94 278.46,-40.27\" stroke=\"#4a4a4a\"/>\n</g>\n<!-- Richness -->\n<g class=\"node\" id=\"node4\">\n<title>Richness</title>\n<ellipse cx=\"293.51\" cy=\"-306\" fill=\"#404040\" rx=\"42.08\" ry=\"18\" stroke=\"#4a4a4a\"/>\n<text fill=\"white\" font-family=\"Times,serif\" font-size=\"14.00\" text-anchor=\"middle\" x=\"293.51\" y=\"-301.8\">Richness</text>\n</g>\n<!-- Richness&#45;&gt;AlcoholAndDrugs -->\n<g class=\"edge\" id=\"edge5\">\n<title>Richness-&gt;AlcoholAndDrugs</title>\n<path d=\"M288.11,-288.13C282.13,-268.28 269.55,-235.68 247.85,-216.75 225.68,-197.19 195.41,-184.67 168.05,-176.83\" fill=\"none\" stroke=\"#4a4a4a\"/>\n<path d=\"M290.02,-287.55C283.99,-267.56 271.42,-234.96 249.17,-215.25 226.45,-195.34 196.18,-182.82 168.6,-174.91\" fill=\"none\" stroke=\"#4a4a4a\"/>\n<polygon fill=\"#4a4a4a\" points=\"168.92,-172.4 158.35,-173.17 167.09,-179.16 168.92,-172.4\" stroke=\"#4a4a4a\"/>\n</g>\n<!-- Richness&#45;&gt;LifeQuality -->\n<g class=\"edge\" id=\"edge14\">\n<title>Richness-&gt;LifeQuality</title>\n<path d=\"M293.82,-287.89C297.49,-240.21 307.88,-105.11 312.39,-46.55\" fill=\"none\" stroke=\"#4a4a4a\"/>\n<path d=\"M295.82,-288.04C299.49,-240.37 309.88,-105.26 314.38,-46.71\" fill=\"none\" stroke=\"#4a4a4a\"/>\n<polygon fill=\"#4a4a4a\" points=\"316.9,-46.55 314.18,-36.31 309.92,-46.01 316.9,-46.55\" stroke=\"#4a4a4a\"/>\n</g>\n<!-- PublicServices -->\n<g class=\"node\" id=\"node7\">\n<title>PublicServices</title>\n<ellipse cx=\"406.51\" cy=\"-90\" fill=\"#404040\" rx=\"62.83\" ry=\"18\" stroke=\"#4a4a4a\"/>\n<text fill=\"white\" font-family=\"Times,serif\" font-size=\"14.00\" text-anchor=\"middle\" x=\"406.51\" y=\"-85.8\">PublicServices</text>\n</g>\n<!-- Richness&#45;&gt;PublicServices -->\n<g class=\"edge\" id=\"edge9\">\n<title>Richness-&gt;PublicServices</title>\n<path d=\"M304.71,-288.12C312.03,-277.86 321.37,-264.17 328.64,-251.5 354.89,-205.81 380.29,-149.66 394.34,-117.23\" fill=\"none\" stroke=\"#4a4a4a\"/>\n<path d=\"M306.33,-289.28C313.68,-278.99 323.02,-265.3 330.38,-252.5 356.72,-206.64 382.12,-150.48 396.17,-118.02\" fill=\"none\" stroke=\"#4a4a4a\"/>\n<polygon fill=\"#4a4a4a\" points=\"398.51,-118.92 399.24,-108.35 392.08,-116.16 398.51,-118.92\" stroke=\"#4a4a4a\"/>\n</g>\n<!-- Richness&#45;&gt;SocialMeetingPoints -->\n<g class=\"edge\" id=\"edge7\">\n<title>Richness-&gt;SocialMeetingPoints</title>\n<path d=\"M267.1,-292.73C246.84,-282.45 218.33,-267.98 195.14,-256.22\" fill=\"none\" stroke=\"#4a4a4a\"/>\n<path d=\"M268.01,-290.94C247.74,-280.66 219.23,-266.2 196.04,-254.44\" fill=\"none\" stroke=\"#4a4a4a\"/>\n<polygon fill=\"#4a4a4a\" points=\"197.17,-252.21 186.67,-250.8 194,-258.45 197.17,-252.21\" stroke=\"#4a4a4a\"/>\n</g>\n<!-- DayPeriod -->\n<g class=\"node\" id=\"node5\">\n<title>DayPeriod</title>\n<ellipse cx=\"239.51\" cy=\"-162\" fill=\"#404040\" rx=\"47.86\" ry=\"18\" stroke=\"#4a4a4a\"/>\n<text fill=\"white\" font-family=\"Times,serif\" font-size=\"14.00\" text-anchor=\"middle\" x=\"239.51\" y=\"-157.8\">DayPeriod</text>\n</g>\n<!-- DayPeriod&#45;&gt;Aggressions -->\n<g class=\"edge\" id=\"edge10\">\n<title>DayPeriod-&gt;Aggressions</title>\n<path d=\"M221.89,-145.49C212.4,-136.39 200.4,-124.88 189.94,-114.86\" fill=\"none\" stroke=\"#4a4a4a\"/>\n<path d=\"M223.27,-144.04C213.78,-134.94 201.79,-123.44 191.33,-113.41\" fill=\"none\" stroke=\"#4a4a4a\"/>\n<polygon fill=\"#4a4a4a\" points=\"192.99,-111.54 183.35,-107.15 188.15,-116.59 192.99,-111.54\" stroke=\"#4a4a4a\"/>\n</g>\n<!-- PublicServices&#45;&gt;LifeQuality -->\n<g class=\"edge\" id=\"edge13\">\n<title>PublicServices-&gt;LifeQuality</title>\n<path d=\"M384.8,-73.56C372.45,-64.06 356.7,-51.94 343.27,-41.62\" fill=\"none\" stroke=\"#4a4a4a\"/>\n<path d=\"M386.02,-71.97C373.67,-62.47 357.92,-50.36 344.49,-40.03\" fill=\"none\" stroke=\"#4a4a4a\"/>\n<polygon fill=\"#4a4a4a\" points=\"345.94,-37.99 335.88,-34.67 341.67,-43.54 345.94,-37.99\" stroke=\"#4a4a4a\"/>\n</g>\n<!-- jobAccessability -->\n<g class=\"node\" id=\"node8\">\n<title>jobAccessability</title>\n<ellipse cx=\"224.51\" cy=\"-378\" fill=\"#404040\" rx=\"69.1\" ry=\"18\" stroke=\"#4a4a4a\"/>\n<text fill=\"white\" font-family=\"Times,serif\" font-size=\"14.00\" text-anchor=\"middle\" x=\"224.51\" y=\"-373.8\">jobAccessability</text>\n</g>\n<!-- jobAccessability&#45;&gt;Richness -->\n<g class=\"edge\" id=\"edge2\">\n<title>jobAccessability-&gt;Richness</title>\n<path d=\"M240.15,-359.71C249.04,-350.69 260.18,-339.39 269.92,-329.5\" fill=\"none\" stroke=\"#4a4a4a\"/>\n<path d=\"M241.58,-361.11C250.47,-352.09 261.61,-340.79 271.35,-330.91\" fill=\"none\" stroke=\"#4a4a4a\"/>\n<polygon fill=\"#4a4a4a\" points=\"273.22,-332.57 277.75,-322.99 268.24,-327.65 273.22,-332.57\" stroke=\"#4a4a4a\"/>\n</g>\n<!-- StudyLevel -->\n<g class=\"node\" id=\"node9\">\n<title>StudyLevel</title>\n<ellipse cx=\"362.51\" cy=\"-378\" fill=\"#404040\" rx=\"50.76\" ry=\"18\" stroke=\"#4a4a4a\"/>\n<text fill=\"white\" font-family=\"Times,serif\" font-size=\"14.00\" text-anchor=\"middle\" x=\"362.51\" y=\"-373.8\">StudyLevel</text>\n</g>\n<!-- StudyLevel&#45;&gt;Richness -->\n<g class=\"edge\" id=\"edge4\">\n<title>StudyLevel-&gt;Richness</title>\n<path d=\"M345.8,-361.47C336.91,-352.46 325.71,-341.09 315.89,-331.13\" fill=\"none\" stroke=\"#4a4a4a\"/>\n<path d=\"M347.22,-360.06C338.34,-351.05 327.13,-339.68 317.32,-329.72\" fill=\"none\" stroke=\"#4a4a4a\"/>\n<polygon fill=\"#4a4a4a\" points=\"318.94,-327.81 309.43,-323.15 313.96,-332.73 318.94,-327.81\" stroke=\"#4a4a4a\"/>\n</g>\n<!-- SocialMeetingPoints&#45;&gt;AlcoholAndDrugs -->\n<g class=\"edge\" id=\"edge3\">\n<title>SocialMeetingPoints-&gt;AlcoholAndDrugs</title>\n<path d=\"M140.94,-216.69C134.01,-208.17 125.48,-197.7 117.83,-188.31\" fill=\"none\" stroke=\"#4a4a4a\"/>\n<path d=\"M142.49,-215.42C135.56,-206.91 127.03,-196.44 119.38,-187.05\" fill=\"none\" stroke=\"#4a4a4a\"/>\n<polygon fill=\"#4a4a4a\" points=\"121.21,-185.33 112.18,-179.79 115.78,-189.75 121.21,-185.33\" stroke=\"#4a4a4a\"/>\n</g>\n</g>\n</svg></div></td><td style=\"border-top:hidden;border-bottom:hidden;\"><div align=\"center\" style=\"\">$$\\begin{equation}P( Aggressions \\mid \\hookrightarrow\\mkern-6.5muSocialMeetingPoints) = \\sum_{CityZone,Richness}{P\\left(Aggressions\\mid CityZone,Richness,SocialMeetingPoints\\right) \\cdot P\\left(CityZone,Richness\\right)}\\end{equation}$$</div></td><td style=\"border-top:hidden;border-bottom:hidden;\"><div align=\"center\" style=\"\"><table style=\"border:1px solid black;\">\n<tr style='border:1px solid black;color:black;background-color:#808080'><th colspan='2'><center>Aggressions</center></th></tr>\n<tr><th style='border:1px solid black;border-bottom-style: double;color:black;background-color:#BBBBBB'><center>high</center></th><th style='border:1px solid black;border-bottom-style: double;color:black;background-color:#BBBBBB'><center>low</center></th></tr>\n<tr><td style='color:black;background-color:#a5d864;text-align:right;'>0.6993</td><td style='color:black;background-color:#d8a564;text-align:right;'>0.3007</td></tr>\n</table></div></td></tr><tr><td style=\"border-top:hidden;border-bottom:hidden;\"><div align=\"center\"><small>Causal Model</small></div></td><td style=\"border-top:hidden;border-bottom:hidden;\"><div align=\"center\"><small>Explanation : backdoor ['CityZone', 'Richness'] found.</small></div></td><td style=\"border-top:hidden;border-bottom:hidden;\"><div align=\"center\"><small>Impact : $P( Aggressions \\mid \\hookrightarrow\\mkern-6.5muSocialMeetingPoints=high)$</small></div></td></tr></table>"
     },
     "metadata": {},
     "output_type": "display_data"
    },
    {
     "data": {
      "text/plain": "<IPython.core.display.HTML object>",
      "text/html": "<table style=\"border-style: hidden; border-collapse: collapse;\" width=\"100%\"><tr><td style=\"border-top:hidden;border-bottom:hidden;\"><div align=\"center\" style=\"\"><svg height=\"404pt\" viewBox=\"0.00 0.00 477.18 404.00\" width=\"477pt\" xmlns=\"http://www.w3.org/2000/svg\" xmlns:xlink=\"http://www.w3.org/1999/xlink\">\n<g class=\"graph\" id=\"graph0\" transform=\"scale(1 1) rotate(0) translate(4 400)\">\n<title>G</title>\n<!-- AlcoholAndDrugs -->\n<g class=\"node\" id=\"node1\">\n<title>AlcoholAndDrugs</title>\n<ellipse cx=\"98.51\" cy=\"-162\" fill=\"#404040\" rx=\"75.39\" ry=\"18\" stroke=\"#4a4a4a\"/>\n<text fill=\"white\" font-family=\"Times,serif\" font-size=\"14.00\" text-anchor=\"middle\" x=\"98.51\" y=\"-157.8\">AlcoholAndDrugs</text>\n</g>\n<!-- Aggressions -->\n<g class=\"node\" id=\"node3\">\n<title>Aggressions</title>\n<ellipse cx=\"166.51\" cy=\"-90\" fill=\"#404040\" rx=\"53.66\" ry=\"18\" stroke=\"#4a4a4a\"/>\n<text fill=\"white\" font-family=\"Times,serif\" font-size=\"14.00\" text-anchor=\"middle\" x=\"166.51\" y=\"-85.8\">Aggressions</text>\n</g>\n<!-- AlcoholAndDrugs&#45;&gt;Aggressions -->\n<g class=\"edge\" id=\"edge12\">\n<title>AlcoholAndDrugs-&gt;Aggressions</title>\n<path d=\"M113.91,-143.71C122.46,-134.91 133.13,-123.93 142.56,-114.22\" fill=\"none\" stroke=\"#4a4a4a\"/>\n<path d=\"M115.34,-145.11C123.9,-136.3 134.56,-125.33 143.99,-115.62\" fill=\"none\" stroke=\"#4a4a4a\"/>\n<polygon fill=\"#4a4a4a\" points=\"146.05,-117.08 150.51,-107.47 141.03,-112.2 146.05,-117.08\" stroke=\"#4a4a4a\"/>\n</g>\n<!-- CityZone -->\n<g class=\"node\" id=\"node2\">\n<title>CityZone</title>\n<ellipse cx=\"43.51\" cy=\"-306\" fill=\"#404040\" rx=\"43.52\" ry=\"18\" stroke=\"#4a4a4a\"/>\n<text fill=\"white\" font-family=\"Times,serif\" font-size=\"14.00\" text-anchor=\"middle\" x=\"43.51\" y=\"-301.8\">CityZone</text>\n</g>\n<!-- CityZone&#45;&gt;AlcoholAndDrugs -->\n<g class=\"edge\" id=\"edge6\">\n<title>CityZone-&gt;AlcoholAndDrugs</title>\n<path d=\"M44.18,-287.89C46.42,-269.49 51.35,-239.67 61.59,-215.61 65.74,-205.91 71.65,-196.26 77.53,-187.82\" fill=\"none\" stroke=\"#4a4a4a\"/>\n<path d=\"M46.16,-288.13C48.39,-269.82 53.32,-239.99 63.43,-216.39 67.45,-206.96 73.35,-197.31 79.17,-188.96\" fill=\"none\" stroke=\"#4a4a4a\"/>\n<polygon fill=\"#4a4a4a\" points=\"81.29,-190.29 84.35,-180.15 75.63,-186.17 81.29,-190.29\" stroke=\"#4a4a4a\"/>\n</g>\n<!-- CityZone&#45;&gt;Aggressions -->\n<g class=\"edge\" id=\"edge1\">\n<title>CityZone-&gt;Aggressions</title>\n<path d=\"M32.19,-288.68C14.13,-257.22 -17.97,-188.88 13.7,-143.42 34.49,-114.46 71.42,-101.17 103.95,-95\" fill=\"none\" stroke=\"#4a4a4a\"/>\n<path d=\"M33.93,-287.68C15.94,-256.37 -16.16,-188.03 15.33,-144.58 35.16,-116.34 72.1,-103.05 104.32,-96.97\" fill=\"none\" stroke=\"#4a4a4a\"/>\n<polygon fill=\"#4a4a4a\" points=\"104.74,-99.43 114.01,-94.3 103.56,-92.53 104.74,-99.43\" stroke=\"#4a4a4a\"/>\n</g>\n<!-- SocialMeetingPoints -->\n<g class=\"node\" id=\"node10\">\n<title>SocialMeetingPoints</title>\n<ellipse cx=\"155.51\" cy=\"-234\" fill=\"#404040\" rx=\"83.6\" ry=\"18\" stroke=\"#4a4a4a\"/>\n<text fill=\"white\" font-family=\"Times,serif\" font-size=\"14.00\" text-anchor=\"middle\" x=\"155.51\" y=\"-229.8\">SocialMeetingPoints</text>\n</g>\n<!-- CityZone&#45;&gt;SocialMeetingPoints -->\n<g class=\"edge\" id=\"edge8\">\n<title>CityZone-&gt;SocialMeetingPoints</title>\n<path d=\"M65.92,-289.82C81.5,-280.08 102.41,-267.01 120.06,-255.98\" fill=\"none\" stroke=\"#4a4a4a\"/>\n<path d=\"M66.98,-291.51C82.56,-281.77 103.47,-268.7 121.12,-257.68\" fill=\"none\" stroke=\"#4a4a4a\"/>\n<polygon fill=\"#4a4a4a\" points=\"122.85,-259.54 129.47,-251.28 119.14,-253.61 122.85,-259.54\" stroke=\"#4a4a4a\"/>\n</g>\n<!-- LifeQuality -->\n<g class=\"node\" id=\"node6\">\n<title>LifeQuality</title>\n<ellipse cx=\"315.51\" cy=\"-18\" fill=\"#404040\" rx=\"51.22\" ry=\"18\" stroke=\"#4a4a4a\"/>\n<text fill=\"white\" font-family=\"Times,serif\" font-size=\"14.00\" text-anchor=\"middle\" x=\"315.51\" y=\"-13.8\">LifeQuality</text>\n</g>\n<!-- Aggressions&#45;&gt;LifeQuality -->\n<g class=\"edge\" id=\"edge11\">\n<title>Aggressions-&gt;LifeQuality</title>\n<path d=\"M195.88,-74.1C219,-63.24 251.23,-48.09 276.35,-36.29\" fill=\"none\" stroke=\"#4a4a4a\"/>\n<path d=\"M196.73,-75.91C219.85,-65.05 252.08,-49.9 277.2,-38.1\" fill=\"none\" stroke=\"#4a4a4a\"/>\n<polygon fill=\"#4a4a4a\" points=\"278.46,-40.27 286.02,-32.85 275.48,-33.94 278.46,-40.27\" stroke=\"#4a4a4a\"/>\n</g>\n<!-- Richness -->\n<g class=\"node\" id=\"node4\">\n<title>Richness</title>\n<ellipse cx=\"293.51\" cy=\"-306\" fill=\"#404040\" rx=\"42.08\" ry=\"18\" stroke=\"#4a4a4a\"/>\n<text fill=\"white\" font-family=\"Times,serif\" font-size=\"14.00\" text-anchor=\"middle\" x=\"293.51\" y=\"-301.8\">Richness</text>\n</g>\n<!-- Richness&#45;&gt;AlcoholAndDrugs -->\n<g class=\"edge\" id=\"edge5\">\n<title>Richness-&gt;AlcoholAndDrugs</title>\n<path d=\"M288.11,-288.13C282.13,-268.28 269.55,-235.68 247.85,-216.75 225.68,-197.19 195.41,-184.67 168.05,-176.83\" fill=\"none\" stroke=\"#4a4a4a\"/>\n<path d=\"M290.02,-287.55C283.99,-267.56 271.42,-234.96 249.17,-215.25 226.45,-195.34 196.18,-182.82 168.6,-174.91\" fill=\"none\" stroke=\"#4a4a4a\"/>\n<polygon fill=\"#4a4a4a\" points=\"168.92,-172.4 158.35,-173.17 167.09,-179.16 168.92,-172.4\" stroke=\"#4a4a4a\"/>\n</g>\n<!-- Richness&#45;&gt;LifeQuality -->\n<g class=\"edge\" id=\"edge14\">\n<title>Richness-&gt;LifeQuality</title>\n<path d=\"M293.82,-287.89C297.49,-240.21 307.88,-105.11 312.39,-46.55\" fill=\"none\" stroke=\"#4a4a4a\"/>\n<path d=\"M295.82,-288.04C299.49,-240.37 309.88,-105.26 314.38,-46.71\" fill=\"none\" stroke=\"#4a4a4a\"/>\n<polygon fill=\"#4a4a4a\" points=\"316.9,-46.55 314.18,-36.31 309.92,-46.01 316.9,-46.55\" stroke=\"#4a4a4a\"/>\n</g>\n<!-- PublicServices -->\n<g class=\"node\" id=\"node7\">\n<title>PublicServices</title>\n<ellipse cx=\"406.51\" cy=\"-90\" fill=\"#404040\" rx=\"62.83\" ry=\"18\" stroke=\"#4a4a4a\"/>\n<text fill=\"white\" font-family=\"Times,serif\" font-size=\"14.00\" text-anchor=\"middle\" x=\"406.51\" y=\"-85.8\">PublicServices</text>\n</g>\n<!-- Richness&#45;&gt;PublicServices -->\n<g class=\"edge\" id=\"edge9\">\n<title>Richness-&gt;PublicServices</title>\n<path d=\"M304.71,-288.12C312.03,-277.86 321.37,-264.17 328.64,-251.5 354.89,-205.81 380.29,-149.66 394.34,-117.23\" fill=\"none\" stroke=\"#4a4a4a\"/>\n<path d=\"M306.33,-289.28C313.68,-278.99 323.02,-265.3 330.38,-252.5 356.72,-206.64 382.12,-150.48 396.17,-118.02\" fill=\"none\" stroke=\"#4a4a4a\"/>\n<polygon fill=\"#4a4a4a\" points=\"398.51,-118.92 399.24,-108.35 392.08,-116.16 398.51,-118.92\" stroke=\"#4a4a4a\"/>\n</g>\n<!-- Richness&#45;&gt;SocialMeetingPoints -->\n<g class=\"edge\" id=\"edge7\">\n<title>Richness-&gt;SocialMeetingPoints</title>\n<path d=\"M267.1,-292.73C246.84,-282.45 218.33,-267.98 195.14,-256.22\" fill=\"none\" stroke=\"#4a4a4a\"/>\n<path d=\"M268.01,-290.94C247.74,-280.66 219.23,-266.2 196.04,-254.44\" fill=\"none\" stroke=\"#4a4a4a\"/>\n<polygon fill=\"#4a4a4a\" points=\"197.17,-252.21 186.67,-250.8 194,-258.45 197.17,-252.21\" stroke=\"#4a4a4a\"/>\n</g>\n<!-- DayPeriod -->\n<g class=\"node\" id=\"node5\">\n<title>DayPeriod</title>\n<ellipse cx=\"239.51\" cy=\"-162\" fill=\"#404040\" rx=\"47.86\" ry=\"18\" stroke=\"#4a4a4a\"/>\n<text fill=\"white\" font-family=\"Times,serif\" font-size=\"14.00\" text-anchor=\"middle\" x=\"239.51\" y=\"-157.8\">DayPeriod</text>\n</g>\n<!-- DayPeriod&#45;&gt;Aggressions -->\n<g class=\"edge\" id=\"edge10\">\n<title>DayPeriod-&gt;Aggressions</title>\n<path d=\"M221.89,-145.49C212.4,-136.39 200.4,-124.88 189.94,-114.86\" fill=\"none\" stroke=\"#4a4a4a\"/>\n<path d=\"M223.27,-144.04C213.78,-134.94 201.79,-123.44 191.33,-113.41\" fill=\"none\" stroke=\"#4a4a4a\"/>\n<polygon fill=\"#4a4a4a\" points=\"192.99,-111.54 183.35,-107.15 188.15,-116.59 192.99,-111.54\" stroke=\"#4a4a4a\"/>\n</g>\n<!-- PublicServices&#45;&gt;LifeQuality -->\n<g class=\"edge\" id=\"edge13\">\n<title>PublicServices-&gt;LifeQuality</title>\n<path d=\"M384.8,-73.56C372.45,-64.06 356.7,-51.94 343.27,-41.62\" fill=\"none\" stroke=\"#4a4a4a\"/>\n<path d=\"M386.02,-71.97C373.67,-62.47 357.92,-50.36 344.49,-40.03\" fill=\"none\" stroke=\"#4a4a4a\"/>\n<polygon fill=\"#4a4a4a\" points=\"345.94,-37.99 335.88,-34.67 341.67,-43.54 345.94,-37.99\" stroke=\"#4a4a4a\"/>\n</g>\n<!-- jobAccessability -->\n<g class=\"node\" id=\"node8\">\n<title>jobAccessability</title>\n<ellipse cx=\"224.51\" cy=\"-378\" fill=\"#404040\" rx=\"69.1\" ry=\"18\" stroke=\"#4a4a4a\"/>\n<text fill=\"white\" font-family=\"Times,serif\" font-size=\"14.00\" text-anchor=\"middle\" x=\"224.51\" y=\"-373.8\">jobAccessability</text>\n</g>\n<!-- jobAccessability&#45;&gt;Richness -->\n<g class=\"edge\" id=\"edge2\">\n<title>jobAccessability-&gt;Richness</title>\n<path d=\"M240.15,-359.71C249.04,-350.69 260.18,-339.39 269.92,-329.5\" fill=\"none\" stroke=\"#4a4a4a\"/>\n<path d=\"M241.58,-361.11C250.47,-352.09 261.61,-340.79 271.35,-330.91\" fill=\"none\" stroke=\"#4a4a4a\"/>\n<polygon fill=\"#4a4a4a\" points=\"273.22,-332.57 277.75,-322.99 268.24,-327.65 273.22,-332.57\" stroke=\"#4a4a4a\"/>\n</g>\n<!-- StudyLevel -->\n<g class=\"node\" id=\"node9\">\n<title>StudyLevel</title>\n<ellipse cx=\"362.51\" cy=\"-378\" fill=\"#404040\" rx=\"50.76\" ry=\"18\" stroke=\"#4a4a4a\"/>\n<text fill=\"white\" font-family=\"Times,serif\" font-size=\"14.00\" text-anchor=\"middle\" x=\"362.51\" y=\"-373.8\">StudyLevel</text>\n</g>\n<!-- StudyLevel&#45;&gt;Richness -->\n<g class=\"edge\" id=\"edge4\">\n<title>StudyLevel-&gt;Richness</title>\n<path d=\"M345.8,-361.47C336.91,-352.46 325.71,-341.09 315.89,-331.13\" fill=\"none\" stroke=\"#4a4a4a\"/>\n<path d=\"M347.22,-360.06C338.34,-351.05 327.13,-339.68 317.32,-329.72\" fill=\"none\" stroke=\"#4a4a4a\"/>\n<polygon fill=\"#4a4a4a\" points=\"318.94,-327.81 309.43,-323.15 313.96,-332.73 318.94,-327.81\" stroke=\"#4a4a4a\"/>\n</g>\n<!-- SocialMeetingPoints&#45;&gt;AlcoholAndDrugs -->\n<g class=\"edge\" id=\"edge3\">\n<title>SocialMeetingPoints-&gt;AlcoholAndDrugs</title>\n<path d=\"M140.94,-216.69C134.01,-208.17 125.48,-197.7 117.83,-188.31\" fill=\"none\" stroke=\"#4a4a4a\"/>\n<path d=\"M142.49,-215.42C135.56,-206.91 127.03,-196.44 119.38,-187.05\" fill=\"none\" stroke=\"#4a4a4a\"/>\n<polygon fill=\"#4a4a4a\" points=\"121.21,-185.33 112.18,-179.79 115.78,-189.75 121.21,-185.33\" stroke=\"#4a4a4a\"/>\n</g>\n</g>\n</svg></div></td><td style=\"border-top:hidden;border-bottom:hidden;\"><div align=\"center\" style=\"\">$$\\begin{equation}P( Aggressions \\mid \\hookrightarrow\\mkern-6.5muSocialMeetingPoints) = \\sum_{CityZone,Richness}{P\\left(Aggressions\\mid CityZone,Richness,SocialMeetingPoints\\right) \\cdot P\\left(CityZone,Richness\\right)}\\end{equation}$$</div></td><td style=\"border-top:hidden;border-bottom:hidden;\"><div align=\"center\" style=\"\"><table style=\"border:1px solid black;\">\n<tr style='border:1px solid black;color:black;background-color:#808080'><th colspan='2'><center>Aggressions</center></th></tr>\n<tr><th style='border:1px solid black;border-bottom-style: double;color:black;background-color:#BBBBBB'><center>high</center></th><th style='border:1px solid black;border-bottom-style: double;color:black;background-color:#BBBBBB'><center>low</center></th></tr>\n<tr><td style='color:black;background-color:#a1dc64;text-align:right;'>0.7296</td><td style='color:black;background-color:#dca164;text-align:right;'>0.2704</td></tr>\n</table></div></td></tr><tr><td style=\"border-top:hidden;border-bottom:hidden;\"><div align=\"center\"><small>Causal Model</small></div></td><td style=\"border-top:hidden;border-bottom:hidden;\"><div align=\"center\"><small>Explanation : backdoor ['CityZone', 'Richness'] found.</small></div></td><td style=\"border-top:hidden;border-bottom:hidden;\"><div align=\"center\"><small>Impact : $P( Aggressions \\mid \\hookrightarrow\\mkern-6.5muSocialMeetingPoints=low)$</small></div></td></tr></table>"
     },
     "metadata": {},
     "output_type": "display_data"
    }
   ],
   "source": [
    "print(\"The chosen variables are SocialMeetingPoints and Aggressions\")\n",
    "cm1 = csl.CausalModel(net)\n",
    "#Question: why for variables (richness, AlcoholAndDrugs) cityZone is used as BD (no arrow entering in Richness)??\n",
    "#Question: check if richness is a proper BD variable; Is the path SocialMeetingPoints - Richness - alcol - aggression \n",
    "cslnb.showCausalImpact(cm1, \"Aggressions\", doing=\"SocialMeetingPoints\",values={\"SocialMeetingPoints\" : \"high\"})\n",
    "cslnb.showCausalImpact(cm1, \"Aggressions\", doing=\"SocialMeetingPoints\",values={\"SocialMeetingPoints\" : \"low\"})\n"
   ],
   "metadata": {
    "collapsed": false,
    "pycharm": {
     "name": "#%%\n",
     "is_executing": false
    }
   }
  },
  {
   "cell_type": "code",
   "execution_count": 36,
   "outputs": [
    {
     "name": "stdout",
     "text": [
      "A confounder is CityZone\n"
     ],
     "output_type": "stream"
    }
   ],
   "source": [
    "print(\"A confounder is CityZone\")"
   ],
   "metadata": {
    "collapsed": false,
    "pycharm": {
     "name": "#%%\n",
     "is_executing": false
    }
   }
  },
  {
   "cell_type": "code",
   "execution_count": 37,
   "outputs": [
    {
     "name": "stdout",
     "text": [
      "My problem, and in particular the selected variables are not practically prone to a RCS\n"
     ],
     "output_type": "stream"
    }
   ],
   "source": [
    "#Specifica meglio citando le variabili su cui dovresti fare il do e che effettivamente non puoi fare\n",
    "print(\"My problem, and in particular the selected variables are not practically prone to a RCS\")\n"
   ],
   "metadata": {
    "collapsed": false,
    "pycharm": {
     "name": "#%%\n",
     "is_executing": false
    }
   }
  },
  {
   "cell_type": "code",
   "execution_count": 38,
   "outputs": [
    {
     "name": "stdout",
     "text": [
      "-0.030359999999999943\n"
     ],
     "output_type": "stream"
    }
   ],
   "source": [
    "c1 = csl.causalImpact(cm1, \"Aggressions\",doing=\"SocialMeetingPoints\")[1]\n",
    "\n",
    "# y-true\n",
    "ACE = c1[1][1]-c1[0][1]\n",
    "print(ACE)"
   ],
   "metadata": {
    "collapsed": false,
    "pycharm": {
     "name": "#%%\n",
     "is_executing": false
    }
   }
  },
  {
   "cell_type": "markdown",
   "source": [
    "#FIXME x = public services y= life s= richness c= studyLevl \n",
    "The chosen variables are, again, are Aggressions and LifeQuality\").\n",
    "We calculate the CityZone-specific effect of SocialMeetingPoints on Aggressions that in this case can be calculated:\n",
    "\n",
    "$$P(LifeQuality=l|do(Aggressions=a), AlcoholAndDrugs=aad)= \\sum_{c \\in CityZone} P(LifeQuality=l|do(Aggressions=a), AlcoholAndDrugs=aad, CityZone=c) P(CityZone=c|AlcoholAndDrugs=aad)$$\n",
    "\n",
    "because $\\{AlcoholAndDrugs,CityZone\\}$ satisfies Rule 2, but this is not the minimal set of variables that satisfies \n",
    "the backdoor criterion. The minimal set is $\\{AlcoholAndDrugs\\}$\n",
    "\n",
    "\n"
   ],
   "metadata": {
    "collapsed": false,
    "pycharm": {
     "name": "#%% md\n"
    }
   }
  },
  {
   "cell_type": "code",
   "execution_count": 39,
   "outputs": [
    {
     "data": {
      "text/plain": "<IPython.core.display.HTML object>",
      "text/html": "<table style=\"border-style: hidden; border-collapse: collapse;\" width=\"100%\"><tr><td style=\"border-top:hidden;border-bottom:hidden;\"><div align=\"center\" style=\"\"><table style=\"border:1px solid black;\">\n<tr><th colspan='2'></th><th colspan='2' style='border:1px solid black;color:black;background-color:#808080;'><center>LifeQuality</center></th></tr>\n<tr><th style='border:1px solid black;color:black;background-color:#808080'><center>PublicServices</center></th><th style='border:1px solid black;color:black;background-color:#808080'><center>Richness</center></th><th style='border:1px solid black;border-bottom-style: double;color:black;background-color:#BBBBBB'><center>high</center></th><th style='border:1px solid black;border-bottom-style: double;color:black;background-color:#BBBBBB'><center>low</center></th></tr>\n<tr><th style='border:1px solid black;color:black;background-color:#BBBBBB;' rowspan = '2'><center>high</center></th><th style='border:1px solid black;color:black;background-color:#BBBBBB'><center>high</center></th><td style='color:black;background-color:#92eb64;text-align:right;'>0.8440</td><td style='color:black;background-color:#eb9264;text-align:right;'>0.1560</td></tr>\n<tr><th style='border:1px solid black;color:black;background-color:#BBBBBB'><center>low</center></th><td style='color:black;background-color:#afce64;text-align:right;'>0.6249</td><td style='color:black;background-color:#ceaf64;text-align:right;'>0.3751</td></tr>\n<tr><th style='border:1px solid black;color:black;background-color:#BBBBBB;' rowspan = '2'><center>low</center></th><th style='border:1px solid black;color:black;background-color:#BBBBBB'><center>high</center></th><td style='color:black;background-color:#9ce164;text-align:right;'>0.7733</td><td style='color:black;background-color:#e19c64;text-align:right;'>0.2267</td></tr>\n<tr><th style='border:1px solid black;color:black;background-color:#BBBBBB'><center>low</center></th><td style='color:black;background-color:#dba264;text-align:right;'>0.2746</td><td style='color:black;background-color:#a2db64;text-align:right;'>0.7254</td></tr>\n</table></div></td><td style=\"border-top:hidden;border-bottom:hidden;\"><div align=\"center\" style=\"\"><table style=\"border:1px solid black;\">\n<tr><th colspan='1'></th><th colspan='2' style='border:1px solid black;color:black;background-color:#808080;'><center>Richness</center></th></tr>\n<tr><th style='border:1px solid black;color:black;background-color:#808080'><center>StudyLevel</center></th><th style='border:1px solid black;border-bottom-style: double;color:black;background-color:#BBBBBB'><center>high</center></th><th style='border:1px solid black;border-bottom-style: double;color:black;background-color:#BBBBBB'><center>low</center></th></tr>\n<tr><th style='border:1px solid black;color:black;background-color:#BBBBBB'><center>high</center></th><td style='color:black;background-color:#a2db64;text-align:right;'>0.7200</td><td style='color:black;background-color:#dba264;text-align:right;'>0.2800</td></tr>\n<tr><th style='border:1px solid black;color:black;background-color:#BBBBBB'><center>low</center></th><td style='color:black;background-color:#c1bc64;text-align:right;'>0.4800</td><td style='color:black;background-color:#bcc164;text-align:right;'>0.5200</td></tr>\n</table></div></td></tr><tr><td style=\"border-top:hidden;border-bottom:hidden;\"><div align=\"center\"><small>$\\forall AlcoholAndDrugs,Aggressions,CityZone,LifeQuality P(LifeQuality|Aggressions,CityZone,AlcoholAndDrugs)$</small></div></td><td style=\"border-top:hidden;border-bottom:hidden;\"><div align=\"center\"><small>$\\forall CityZone,AlcoholAndDrugs P(CityZone|AlcoholAndDrugs)$</small></div></td></tr></table>"
     },
     "metadata": {},
     "output_type": "display_data"
    },
    {
     "name": "stdout",
     "text": [
      "<StudyLevel:high|LifeQuality:high|PublicServices:high> :: 0.607671 /<StudyLevel:low|LifeQuality:high|PublicServices:high> :: 0.405114 /<StudyLevel:high|LifeQuality:low|PublicServices:high> :: 0.112329 /<StudyLevel:low|LifeQuality:low|PublicServices:high> :: 0.074886 /<StudyLevel:high|LifeQuality:high|PublicServices:low> :: 0.556785 /<StudyLevel:low|LifeQuality:high|PublicServices:low> :: 0.37119 /<StudyLevel:high|LifeQuality:low|PublicServices:low> :: 0.163215 /<StudyLevel:low|LifeQuality:low|PublicServices:low> :: 0.10881\n",
      "<StudyLevel:high|LifeQuality:high|PublicServices:high> :: 0.782653 /<StudyLevel:low|LifeQuality:high|PublicServices:high> :: 0.730082 /<StudyLevel:high|LifeQuality:low|PublicServices:high> :: 0.217346 /<StudyLevel:low|LifeQuality:low|PublicServices:high> :: 0.269919 /<StudyLevel:high|LifeQuality:high|PublicServices:low> :: 0.633663 /<StudyLevel:low|LifeQuality:high|PublicServices:low> :: 0.513962 /<StudyLevel:high|LifeQuality:low|PublicServices:low> :: 0.366337 /<StudyLevel:low|LifeQuality:low|PublicServices:low> :: 0.486038\n"
     ],
     "output_type": "stream"
    },
    {
     "data": {
      "text/plain": "<IPython.core.display.HTML object>",
      "text/html": "<table style=\"border-style: hidden; border-collapse: collapse;\" width=\"100%\"><tr><td style=\"border-top:hidden;border-bottom:hidden;\"><div align=\"center\" style=\"\"><table style=\"border:1px solid black;\">\n<tr><th colspan='2'></th><th colspan='2' style='border:1px solid black;color:black;background-color:#808080;'><center>LifeQuality</center></th></tr>\n<tr><th style='border:1px solid black;color:black;background-color:#808080'><center>PublicServices</center></th><th style='border:1px solid black;color:black;background-color:#808080'><center>StudyLevel</center></th><th style='border:1px solid black;border-bottom-style: double;color:black;background-color:#BBBBBB'><center>high</center></th><th style='border:1px solid black;border-bottom-style: double;color:black;background-color:#BBBBBB'><center>low</center></th></tr>\n<tr><th style='border:1px solid black;color:black;background-color:#BBBBBB;' rowspan = '2'><center>high</center></th><th style='border:1px solid black;color:black;background-color:#BBBBBB'><center>high</center></th><td style='color:black;background-color:#9ae364;text-align:right;'>0.7827</td><td style='color:black;background-color:#e39a64;text-align:right;'>0.2173</td></tr>\n<tr><th style='border:1px solid black;color:black;background-color:#BBBBBB'><center>low</center></th><td style='color:black;background-color:#a1dc64;text-align:right;'>0.7301</td><td style='color:black;background-color:#dca164;text-align:right;'>0.2699</td></tr>\n<tr><th style='border:1px solid black;color:black;background-color:#BBBBBB;' rowspan = '2'><center>low</center></th><th style='border:1px solid black;color:black;background-color:#BBBBBB'><center>high</center></th><td style='color:black;background-color:#add064;text-align:right;'>0.6337</td><td style='color:black;background-color:#d0ad64;text-align:right;'>0.3663</td></tr>\n<tr><th style='border:1px solid black;color:black;background-color:#BBBBBB'><center>low</center></th><td style='color:black;background-color:#bdc064;text-align:right;'>0.5140</td><td style='color:black;background-color:#c0bd64;text-align:right;'>0.4860</td></tr>\n</table></div></td></tr><tr><td style=\"border-top:hidden;border-bottom:hidden;\"><div align=\"center\"><small>$\\forall AlcoholAndDrugs,Aggressions,LifeQuality P(LifeQuality|Aggressions,AlcoholAndDrugs)$</small></div></td></tr></table>"
     },
     "metadata": {},
     "output_type": "display_data"
    }
   ],
   "source": [
    "#x = public services y= life s= richness c= studyLevl \n",
    "# C specific effect\n",
    "#cslnb.showCausalImpact(cm1, \"Aggressions\", doing=\"SocialMeetingPoints\", knowing={\"CityZone\"}, values={\"CityZone\":\"downtown\"})\n",
    "ie=gum.LazyPropagation(net)\n",
    "ie.addJointTarget({\"PublicServices\",\"LifeQuality\",\"Richness\",\"StudyLevel\"})\n",
    "ie.makeInference()\n",
    "pAgivenRC=ie.evidenceJointImpact([\"LifeQuality\"],[\"PublicServices\",\"Richness\",\"StudyLevel\"])\n",
    "#P(s|c)\n",
    "pRgivenC=ie.evidenceJointImpact([\"Richness\"],[\"StudyLevel\"])\n",
    "gnb.sideBySide(pAgivenRC,pRgivenC,\n",
    "              captions=[\"$\\\\forall AlcoholAndDrugs,Aggressions,CityZone,LifeQuality P(LifeQuality|Aggressions,CityZone,AlcoholAndDrugs)$\",\n",
    "                        \"$\\\\forall CityZone,AlcoholAndDrugs P(CityZone|AlcoholAndDrugs)$\"]\n",
    "                        )\n",
    "\n",
    "result=pAgivenRC.extract({\"Richness\":0})*pRgivenC.extract({\"Richness\":0})\n",
    "print(result)\n",
    "result=result + pAgivenRC.extract({\"Richness\":1})*pRgivenC.extract({\"Richness\":1})\n",
    "print(result)\n",
    "gnb.sideBySide(result.putFirst(\"LifeQuality\"),\n",
    "              captions=[\"$\\\\forall AlcoholAndDrugs,Aggressions,LifeQuality P(LifeQuality|Aggressions,AlcoholAndDrugs)$\"])"
   ],
   "metadata": {
    "collapsed": false,
    "pycharm": {
     "name": "#%%\n",
     "is_executing": false
    }
   }
  },
  {
   "cell_type": "code",
   "execution_count": 40,
   "outputs": [],
   "source": [
    "# Y= LifeQuality X= Aggressions C= AlcoholAndDrugs\n",
    "# Aggressions = g(AlcoholAndDrugs) := high if AlcoholAndDrugs = high, low if AlcoholAndDrugs = low\n",
    "\n",
    "\n",
    "\n",
    "                        \n"
   ],
   "metadata": {
    "collapsed": false,
    "pycharm": {
     "name": "#%%\n",
     "is_executing": false
    }
   }
  },
  {
   "cell_type": "markdown",
   "source": [
    "\n",
    "\n",
    "$$P(Recovery|do(Drug=g(Age))=\\sum_{a}P(Recovery|do(Drug=d), Age=a)|_{d=g(a)}P(Age=a)$$               \n",
    "\n",
    "\n"
   ],
   "metadata": {
    "collapsed": false
   }
  },
  {
   "cell_type": "code",
   "execution_count": 41,
   "outputs": [
    {
     "name": "stdout",
     "text": [
      "<class 'numpy.float64'>\n"
     ],
     "output_type": "stream"
    },
    {
     "data": {
      "text/plain": "0.4022474999999999"
     },
     "metadata": {},
     "output_type": "execute_result",
     "execution_count": 41
    }
   ],
   "source": [
    "#Cambia il valore di life quality e fai vedere che somma a 1\n",
    "#Specifica la funzione che stai usando e perche' puoi non esplicitarla\n",
    "\n",
    "expected_value=0\n",
    "for i in [0,1]:\n",
    "    firstprob= result.extract({\"LifeQuality\":1, \"PublicServices\":1})\n",
    "    expected_value=expected_value+firstprob[i]*net.cpt(\"StudyLevel\")[i]\n",
    "\n",
    "print(type(expected_value))\n",
    "expected_value\n"
   ],
   "metadata": {
    "collapsed": false,
    "pycharm": {
     "name": "#%% \n",
     "is_executing": false
    }
   }
  },
  {
   "cell_type": "code",
   "source": [
    "#Identify possible mediating variables between X and Y \n",
    "#and calculate the CDE of Y changing the value of X.\n",
    "# X= Richness Y= AlcoholAndDrugs Mediating= SocialMeetingPoints Counfonder = CityZone\n",
    "\n",
    "\n",
    "ci_R_T=csl.causalImpact(cm1,on={\"AlcoholAndDrugs\"},doing={\"Richness\",\"SocialMeetingPoints\"},values={\"SocialMeetingPoints\": 'high', \"Richness\":'high'})[1][1]\n",
    "ci_R_F=csl.causalImpact(cm1,on={\"AlcoholAndDrugs\"},doing={\"Richness\",\"SocialMeetingPoints\"},values={\"SocialMeetingPoints\": 'high', \"Richness\":'low'})[1][1]\n",
    "\n",
    "\n",
    "CDE= ci_R_T-ci_R_F\n",
    "print('CDE=', str(ci_R_T), '-', str(ci_R_F), '=', str(CDE))\n",
    "\n",
    "ci_R_T=csl.causalImpact(cm1,on={\"AlcoholAndDrugs\"},doing={\"Richness\",\"SocialMeetingPoints\"},values={\"SocialMeetingPoints\": 'high', \"Richness\":'high'})[1][0]\n",
    "ci_R_F=csl.causalImpact(cm1,on={\"AlcoholAndDrugs\"},doing={\"Richness\",\"SocialMeetingPoints\"},values={\"SocialMeetingPoints\": 'high', \"Richness\":'low'})[1][0]\n",
    "\n",
    "CDE= ci_R_T-ci_R_F\n",
    "print('CDE=', str(ci_R_T), '-', str(ci_R_F), '=', str(CDE))\n",
    "\n",
    "ci_R_T=csl.causalImpact(cm1,on={\"AlcoholAndDrugs\"},doing={\"Richness\",\"SocialMeetingPoints\"},values={\"SocialMeetingPoints\": 'low', \"Richness\":'high'})[1][1]\n",
    "ci_R_F=csl.causalImpact(cm1,on={\"AlcoholAndDrugs\"},doing={\"Richness\",\"SocialMeetingPoints\"},values={\"SocialMeetingPoints\": 'low', \"Richness\":'low'})[1][1]\n",
    "\n",
    "CDE= ci_R_T-ci_R_F\n",
    "print('CDE=', str(ci_R_T), '-', str(ci_R_F), '=', str(CDE))\n",
    "\n",
    "ci_R_T=csl.causalImpact(cm1,on={\"AlcoholAndDrugs\"},doing={\"Richness\",\"SocialMeetingPoints\"},values={\"SocialMeetingPoints\": 'low', \"Richness\":'high'})[1][0]\n",
    "ci_R_F=csl.causalImpact(cm1,on={\"AlcoholAndDrugs\"},doing={\"Richness\",\"SocialMeetingPoints\"},values={\"SocialMeetingPoints\": 'low', \"Richness\":'low'})[1][0]\n",
    "\n",
    "CDE= ci_R_T-ci_R_F\n",
    "print('CDE=', str(ci_R_T), '-', str(ci_R_F), '=', str(CDE))"
   ],
   "metadata": {
    "collapsed": false,
    "pycharm": {
     "name": "#%% \n",
     "is_executing": false
    }
   },
   "execution_count": 42,
   "outputs": [
    {
     "name": "stdout",
     "text": [
      "CDE= 0.32999999999999996 - 0.5599999999999999 = -0.22999999999999998\n",
      "CDE= 0.6699999999999999 - 0.43999999999999995 = 0.22999999999999998\n",
      "CDE= 0.27999999999999997 - 0.049999999999999996 = 0.22999999999999998\n",
      "CDE= 0.72 - 0.95 = -0.22999999999999998\n"
     ],
     "output_type": "stream"
    }
   ]
  },
  {
   "cell_type": "markdown",
   "source": [
    "# Simulation  \n",
    "The model used in this section is the same as the preovious one but with jobAccessibility not observable.\n",
    "I'm going to use the modified model just in the last part, the CDE computation, because in every other point\n",
    "the effects cannot be computed as you can read below. As jobAccessibility is not observable the cpts\n",
    "of its sons must be modified. I assumed that the phenomena illustrated by the model has not changed so\n",
    "i have to hardcode the effect of jobAccessibility into Richness. "
   ],
   "metadata": {
    "collapsed": false
   }
  },
  {
   "cell_type": "code",
   "execution_count": 43,
   "outputs": [
    {
     "data": {
      "text/plain": "<IPython.core.display.HTML object>",
      "text/html": "<table style=\"border-style: hidden; border-collapse: collapse;\" width=\"100%\"><tr><td style=\"border-top:hidden;border-bottom:hidden;\"><div align=\"center\" style=\"\"><svg height=\"404pt\" viewBox=\"0.00 0.00 465.47 404.00\" width=\"465pt\" xmlns=\"http://www.w3.org/2000/svg\" xmlns:xlink=\"http://www.w3.org/1999/xlink\">\n<g class=\"graph\" id=\"graph0\" transform=\"scale(1 1) rotate(0) translate(4 400)\">\n<title>G</title>\n<!-- JobAccessibility -->\n<g class=\"node\" id=\"node1\">\n<title>JobAccessibility</title>\n<ellipse cx=\"17.54\" cy=\"-378\" fill=\"#404040\" rx=\"1.8\" ry=\"1.8\" stroke=\"#4a4a4a\"/>\n</g>\n<!-- Richness -->\n<g class=\"node\" id=\"node5\">\n<title>Richness</title>\n<ellipse cx=\"52.54\" cy=\"-306\" fill=\"#404040\" rx=\"42.08\" ry=\"18\" stroke=\"#4a4a4a\"/>\n<text fill=\"white\" font-family=\"Times,serif\" font-size=\"14.00\" text-anchor=\"middle\" x=\"52.54\" y=\"-301.8\">Richness</text>\n</g>\n<!-- JobAccessibility&#45;&gt;Richness -->\n<g class=\"edge\" id=\"edge5\">\n<title>JobAccessibility-&gt;Richness</title>\n<path d=\"M17.93,-376.21C20.08,-371.93 30.57,-350.94 39.45,-333.19\" fill=\"none\" stroke=\"#4a4a4a\" stroke-dasharray=\"5,2\"/>\n<polygon fill=\"#4a4a4a\" points=\"42.81,-334.3 44.15,-323.79 36.54,-331.17 42.81,-334.3\" stroke=\"#4a4a4a\"/>\n</g>\n<!-- AlcoholAndDrugs -->\n<g class=\"node\" id=\"node2\">\n<title>AlcoholAndDrugs</title>\n<ellipse cx=\"206.54\" cy=\"-162\" fill=\"#404040\" rx=\"75.39\" ry=\"18\" stroke=\"#4a4a4a\"/>\n<text fill=\"white\" font-family=\"Times,serif\" font-size=\"14.00\" text-anchor=\"middle\" x=\"206.54\" y=\"-157.8\">AlcoholAndDrugs</text>\n</g>\n<!-- Aggressions -->\n<g class=\"node\" id=\"node4\">\n<title>Aggressions</title>\n<ellipse cx=\"276.54\" cy=\"-90\" fill=\"#404040\" rx=\"53.66\" ry=\"18\" stroke=\"#4a4a4a\"/>\n<text fill=\"white\" font-family=\"Times,serif\" font-size=\"14.00\" text-anchor=\"middle\" x=\"276.54\" y=\"-85.8\">Aggressions</text>\n</g>\n<!-- AlcoholAndDrugs&#45;&gt;Aggressions -->\n<g class=\"edge\" id=\"edge12\">\n<title>AlcoholAndDrugs-&gt;Aggressions</title>\n<path d=\"M222.42,-143.7C231.32,-134.81 242.42,-123.7 252.2,-113.92\" fill=\"none\" stroke=\"#4a4a4a\"/>\n<path d=\"M223.84,-145.12C232.73,-136.23 243.84,-125.12 253.62,-115.34\" fill=\"none\" stroke=\"#4a4a4a\"/>\n<polygon fill=\"#4a4a4a\" points=\"255.48,-117.02 260.07,-107.47 250.53,-112.07 255.48,-117.02\" stroke=\"#4a4a4a\"/>\n</g>\n<!-- CityZone -->\n<g class=\"node\" id=\"node3\">\n<title>CityZone</title>\n<ellipse cx=\"295.54\" cy=\"-306\" fill=\"#404040\" rx=\"43.52\" ry=\"18\" stroke=\"#4a4a4a\"/>\n<text fill=\"white\" font-family=\"Times,serif\" font-size=\"14.00\" text-anchor=\"middle\" x=\"295.54\" y=\"-301.8\">CityZone</text>\n</g>\n<!-- CityZone&#45;&gt;AlcoholAndDrugs -->\n<g class=\"edge\" id=\"edge4\">\n<title>CityZone-&gt;AlcoholAndDrugs</title>\n<path d=\"M294.37,-287.99C293.44,-269.1 289.63,-238.25 275.7,-216.54 267.91,-204.23 255.88,-193.56 244.11,-185.22\" fill=\"none\" stroke=\"#4a4a4a\"/>\n<path d=\"M296.37,-287.89C295.42,-268.86 291.61,-238.01 277.39,-215.46 269.24,-202.73 257.21,-192.06 245.27,-183.59\" fill=\"none\" stroke=\"#4a4a4a\"/>\n<polygon fill=\"#4a4a4a\" points=\"246.41,-181.34 236.15,-178.69 242.51,-187.16 246.41,-181.34\" stroke=\"#4a4a4a\"/>\n</g>\n<!-- CityZone&#45;&gt;Aggressions -->\n<g class=\"edge\" id=\"edge1\">\n<title>CityZone-&gt;Aggressions</title>\n<path d=\"M295.56,-287.87C296.98,-258.33 298.47,-195.79 289.56,-144.17 288.07,-135.57 285.83,-126.25 283.59,-117.91\" fill=\"none\" stroke=\"#4a4a4a\"/>\n<path d=\"M297.56,-287.97C298.98,-258.38 300.47,-195.83 291.53,-143.83 290.02,-135.1 287.78,-125.78 285.52,-117.39\" fill=\"none\" stroke=\"#4a4a4a\"/>\n<polygon fill=\"#4a4a4a\" points=\"287.92,-116.7 281.85,-108.02 281.18,-118.59 287.92,-116.7\" stroke=\"#4a4a4a\"/>\n</g>\n<!-- SocialMeetingPoints -->\n<g class=\"node\" id=\"node10\">\n<title>SocialMeetingPoints</title>\n<ellipse cx=\"183.54\" cy=\"-234\" fill=\"#404040\" rx=\"83.6\" ry=\"18\" stroke=\"#4a4a4a\"/>\n<text fill=\"white\" font-family=\"Times,serif\" font-size=\"14.00\" text-anchor=\"middle\" x=\"183.54\" y=\"-229.8\">SocialMeetingPoints</text>\n</g>\n<!-- CityZone&#45;&gt;SocialMeetingPoints -->\n<g class=\"edge\" id=\"edge8\">\n<title>CityZone-&gt;SocialMeetingPoints</title>\n<path d=\"M272.08,-291.51C256.49,-281.77 235.58,-268.7 217.94,-257.68\" fill=\"none\" stroke=\"#4a4a4a\"/>\n<path d=\"M273.14,-289.82C257.55,-280.08 236.64,-267.01 219,-255.98\" fill=\"none\" stroke=\"#4a4a4a\"/>\n<polygon fill=\"#4a4a4a\" points=\"219.92,-253.61 209.58,-251.28 216.21,-259.54 219.92,-253.61\" stroke=\"#4a4a4a\"/>\n</g>\n<!-- LifeQuality -->\n<g class=\"node\" id=\"node7\">\n<title>LifeQuality</title>\n<ellipse cx=\"86.54\" cy=\"-18\" fill=\"#404040\" rx=\"51.22\" ry=\"18\" stroke=\"#4a4a4a\"/>\n<text fill=\"white\" font-family=\"Times,serif\" font-size=\"14.00\" text-anchor=\"middle\" x=\"86.54\" y=\"-13.8\">LifeQuality</text>\n</g>\n<!-- Aggressions&#45;&gt;LifeQuality -->\n<g class=\"edge\" id=\"edge11\">\n<title>Aggressions-&gt;LifeQuality</title>\n<path d=\"M241.35,-77.1C209.95,-65.53 163.66,-48.48 129.82,-36.01\" fill=\"none\" stroke=\"#4a4a4a\"/>\n<path d=\"M242.04,-75.22C210.64,-63.66 164.35,-46.6 130.51,-34.13\" fill=\"none\" stroke=\"#4a4a4a\"/>\n<polygon fill=\"#4a4a4a\" points=\"131.12,-31.7 120.53,-31.52 128.7,-38.26 131.12,-31.7\" stroke=\"#4a4a4a\"/>\n</g>\n<!-- Richness&#45;&gt;AlcoholAndDrugs -->\n<g class=\"edge\" id=\"edge3\">\n<title>Richness-&gt;AlcoholAndDrugs</title>\n<path d=\"M54.97,-287.61C59.67,-267.92 69.88,-235.9 89.83,-215.3 106.02,-198.77 127.95,-186.99 148.55,-178.7\" fill=\"none\" stroke=\"#4a4a4a\"/>\n<path d=\"M56.91,-288.08C61.58,-268.52 71.79,-236.51 91.26,-216.7 106.96,-200.53 128.89,-188.75 149.3,-180.56\" fill=\"none\" stroke=\"#4a4a4a\"/>\n<polygon fill=\"#4a4a4a\" points=\"150.43,-182.8 158.53,-175.98 147.94,-176.26 150.43,-182.8\" stroke=\"#4a4a4a\"/>\n</g>\n<!-- Richness&#45;&gt;LifeQuality -->\n<g class=\"edge\" id=\"edge14\">\n<title>Richness-&gt;LifeQuality</title>\n<path d=\"M42.46,-288.89C21.75,-249.15 -23.82,-146.47 13.65,-71.55 21.05,-57.07 34,-45.75 47.07,-37.19\" fill=\"none\" stroke=\"#4a4a4a\"/>\n<path d=\"M44.24,-287.97C23.58,-248.34 -21.99,-145.66 15.43,-72.45 22.37,-58.57 35.32,-47.26 48.17,-38.87\" fill=\"none\" stroke=\"#4a4a4a\"/>\n<polygon fill=\"#4a4a4a\" points=\"49.8,-40.8 56.52,-32.62 46.16,-34.82 49.8,-40.8\" stroke=\"#4a4a4a\"/>\n</g>\n<!-- PublicServices -->\n<g class=\"node\" id=\"node8\">\n<title>PublicServices</title>\n<ellipse cx=\"86.54\" cy=\"-90\" fill=\"#404040\" rx=\"62.83\" ry=\"18\" stroke=\"#4a4a4a\"/>\n<text fill=\"white\" font-family=\"Times,serif\" font-size=\"14.00\" text-anchor=\"middle\" x=\"86.54\" y=\"-85.8\">PublicServices</text>\n</g>\n<!-- Richness&#45;&gt;PublicServices -->\n<g class=\"edge\" id=\"edge9\">\n<title>Richness-&gt;PublicServices</title>\n<path d=\"M53.65,-287.78C55.9,-269.84 59.67,-240.83 63.55,-215.85 68.8,-182.1 75.75,-143.43 80.42,-118.14\" fill=\"none\" stroke=\"#4a4a4a\"/>\n<path d=\"M55.63,-288.03C57.88,-270.1 61.66,-241.09 65.53,-216.15 70.76,-182.45 77.72,-143.78 82.39,-118.5\" fill=\"none\" stroke=\"#4a4a4a\"/>\n<polygon fill=\"#4a4a4a\" points=\"84.87,-118.83 83.26,-108.35 77.99,-117.55 84.87,-118.83\" stroke=\"#4a4a4a\"/>\n</g>\n<!-- Richness&#45;&gt;SocialMeetingPoints -->\n<g class=\"edge\" id=\"edge7\">\n<title>Richness-&gt;SocialMeetingPoints</title>\n<path d=\"M77.33,-290.62C96.32,-280.47 122.69,-266.38 144.35,-254.81\" fill=\"none\" stroke=\"#4a4a4a\"/>\n<path d=\"M78.27,-292.39C97.27,-282.23 123.64,-268.14 145.29,-256.57\" fill=\"none\" stroke=\"#4a4a4a\"/>\n<polygon fill=\"#4a4a4a\" points=\"146.6,-258.71 153.77,-250.91 143.31,-252.53 146.6,-258.71\" stroke=\"#4a4a4a\"/>\n</g>\n<!-- DayPeriod -->\n<g class=\"node\" id=\"node6\">\n<title>DayPeriod</title>\n<ellipse cx=\"409.54\" cy=\"-162\" fill=\"#404040\" rx=\"47.86\" ry=\"18\" stroke=\"#4a4a4a\"/>\n<text fill=\"white\" font-family=\"Times,serif\" font-size=\"14.00\" text-anchor=\"middle\" x=\"409.54\" y=\"-157.8\">DayPeriod</text>\n</g>\n<!-- DayPeriod&#45;&gt;Aggressions -->\n<g class=\"edge\" id=\"edge10\">\n<title>DayPeriod-&gt;Aggressions</title>\n<path d=\"M382.48,-147.89C362.58,-137.41 335.12,-122.96 313.08,-111.36\" fill=\"none\" stroke=\"#4a4a4a\"/>\n<path d=\"M383.41,-146.12C363.51,-135.64 336.05,-121.19 314.01,-109.59\" fill=\"none\" stroke=\"#4a4a4a\"/>\n<polygon fill=\"#4a4a4a\" points=\"314.94,-107.26 304.47,-105.7 311.68,-113.45 314.94,-107.26\" stroke=\"#4a4a4a\"/>\n</g>\n<!-- PublicServices&#45;&gt;LifeQuality -->\n<g class=\"edge\" id=\"edge13\">\n<title>PublicServices-&gt;LifeQuality</title>\n<path d=\"M85.54,-71.7C85.54,-63.98 85.54,-54.71 85.54,-46.11\" fill=\"none\" stroke=\"#4a4a4a\"/>\n<path d=\"M87.54,-71.7C87.54,-63.98 87.54,-54.71 87.54,-46.11\" fill=\"none\" stroke=\"#4a4a4a\"/>\n<polygon fill=\"#4a4a4a\" points=\"90.04,-46.1 86.54,-36.1 83.04,-46.1 90.04,-46.1\" stroke=\"#4a4a4a\"/>\n</g>\n<!-- StudyLevel -->\n<g class=\"node\" id=\"node9\">\n<title>StudyLevel</title>\n<ellipse cx=\"88.54\" cy=\"-378\" fill=\"#404040\" rx=\"50.76\" ry=\"18\" stroke=\"#4a4a4a\"/>\n<text fill=\"white\" font-family=\"Times,serif\" font-size=\"14.00\" text-anchor=\"middle\" x=\"88.54\" y=\"-373.8\">StudyLevel</text>\n</g>\n<!-- StudyLevel&#45;&gt;Richness -->\n<g class=\"edge\" id=\"edge2\">\n<title>StudyLevel-&gt;Richness</title>\n<path d=\"M78.94,-360.51C74.74,-352.34 69.61,-342.37 64.93,-333.28\" fill=\"none\" stroke=\"#4a4a4a\"/>\n<path d=\"M80.72,-359.6C76.52,-351.43 71.39,-341.45 66.71,-332.37\" fill=\"none\" stroke=\"#4a4a4a\"/>\n<polygon fill=\"#4a4a4a\" points=\"68.86,-331.08 61.18,-323.79 62.64,-334.28 68.86,-331.08\" stroke=\"#4a4a4a\"/>\n</g>\n<!-- SocialMeetingPoints&#45;&gt;AlcoholAndDrugs -->\n<g class=\"edge\" id=\"edge6\">\n<title>SocialMeetingPoints-&gt;AlcoholAndDrugs</title>\n<path d=\"M188.28,-215.38C190.84,-207.59 193.92,-198.2 196.78,-189.52\" fill=\"none\" stroke=\"#4a4a4a\"/>\n<path d=\"M190.18,-216.01C192.74,-208.21 195.82,-198.82 198.68,-190.14\" fill=\"none\" stroke=\"#4a4a4a\"/>\n<polygon fill=\"#4a4a4a\" points=\"201.12,-190.7 200.92,-180.1 194.47,-188.51 201.12,-190.7\" stroke=\"#4a4a4a\"/>\n</g>\n</g>\n</svg></div></td><td style=\"border-top:hidden;border-bottom:hidden;\"><div align=\"center\" style=\"\">$$\\begin{equation}P( SocialMeetingPoints \\mid \\hookrightarrow\\mkern-6.5muRichness) = \\sum_{CityZone}{P\\left(CityZone\\right) \\cdot P\\left(SocialMeetingPoints\\mid CityZone,Richness\\right)}\\end{equation}$$</div></td><td style=\"border-top:hidden;border-bottom:hidden;\"><div align=\"center\" style=\"\"><table style=\"border:1px solid black;\">\n<tr><th colspan='1'></th><th colspan='2' style='border:1px solid black;color:black;background-color:#808080;'><center>SocialMeetingPoints</center></th></tr>\n<tr><th style='border:1px solid black;color:black;background-color:#808080'><center>Richness</center></th><th style='border:1px solid black;border-bottom-style: double;color:black;background-color:#BBBBBB'><center>high</center></th><th style='border:1px solid black;border-bottom-style: double;color:black;background-color:#BBBBBB'><center>low</center></th></tr>\n<tr><th style='border:1px solid black;color:black;background-color:#BBBBBB'><center>high</center></th><td style='color:black;background-color:#a0dd64;text-align:right;'>0.7400</td><td style='color:black;background-color:#dda064;text-align:right;'>0.2600</td></tr>\n<tr><th style='border:1px solid black;color:black;background-color:#BBBBBB'><center>low</center></th><td style='color:black;background-color:#cfae64;text-align:right;'>0.3700</td><td style='color:black;background-color:#aecf64;text-align:right;'>0.6300</td></tr>\n</table></div></td></tr><tr><td style=\"border-top:hidden;border-bottom:hidden;\"><div align=\"center\"><small>Causal Model</small></div></td><td style=\"border-top:hidden;border-bottom:hidden;\"><div align=\"center\"><small>Explanation : Do-calculus computations</small></div></td><td style=\"border-top:hidden;border-bottom:hidden;\"><div align=\"center\"><small>Impact : $P( SocialMeetingPoints \\mid \\hookrightarrow\\mkern-6.5muRichness)$</small></div></td></tr></table>"
     },
     "metadata": {},
     "output_type": "display_data"
    }
   ],
   "source": [
    "netString2 = (\"AlcoholAndDrugs{high|low}<-CityZone{downtown|suburbs}->Aggressions{high|low};\"\n",
    "             \"Richness{high|low}->AlcoholAndDrugs->Aggressions;\"\n",
    "             \"DayPeriod{day|night}->Aggressions->LifeQuality{high|low}<-PublicServices{high|low}<-Richness;\"\n",
    "             \"Richness<-StudyLevel{high|low};\"\n",
    "             \"AlcoholAndDrugs<-SocialMeetingPoints{high|low};Richness->LifeQuality;\"\n",
    "             \"Richness->SocialMeetingPoints<-CityZone\")\n",
    "net2 = gum.fastBN(netString2)\n",
    "\n",
    "# net.cpt(\"jobAccessability\")[:] = [0.6,0.4]\n",
    "net2.cpt(\"StudyLevel\")[:] = [0.7,0.3]\n",
    "net2.cpt(\"CityZone\")[:] = [0.3,0.7]\n",
    "net2.cpt(\"DayPeriod\")[:] = [0.5,0.5]\n",
    "\n",
    "r1 = 0.6 * 1 + 0.4 * 0.3\n",
    "r2 = 0.6 * 0 + 0.4 * 0.8\n",
    "net2.cpt(\"Richness\")[{'StudyLevel':'high'}] = [r1, 1-r1]\n",
    "net2.cpt(\"Richness\")[{'StudyLevel':'low'}] = [r2, 1-r2]\n",
    "\n",
    "net2.cpt(\"SocialMeetingPoints\")[{'Richness':'high','CityZone':'downtown'}] = [0.6,0.4]\n",
    "net2.cpt(\"SocialMeetingPoints\")[{'Richness':'high','CityZone':'suburbs'}] = [0.8,0.2]\n",
    "net2.cpt(\"SocialMeetingPoints\")[{'Richness':'low','CityZone':'downtown'}] = [0.3,0.7]\n",
    "net2.cpt(\"SocialMeetingPoints\")[{'Richness':'low','CityZone':'suburbs'}] = [0.4,0.6]\n",
    "\n",
    "net2.cpt(\"AlcoholAndDrugs\")[{'Richness':'high','SocialMeetingPoints':'high', 'CityZone':'downtown'}] = [0.6,0.4]\n",
    "net2.cpt(\"AlcoholAndDrugs\")[{'Richness':'high','SocialMeetingPoints':'high', 'CityZone':'suburbs'}] = [0.7,0.3]\n",
    "net2.cpt(\"AlcoholAndDrugs\")[{'Richness':'high','SocialMeetingPoints':'low', 'CityZone':'downtown'}] = [0.3,0.7]\n",
    "net2.cpt(\"AlcoholAndDrugs\")[{'Richness':'high','SocialMeetingPoints':'low', 'CityZone':'suburbs'}] = [0.9,0.1]\n",
    "net2.cpt(\"AlcoholAndDrugs\")[{'Richness':'low','SocialMeetingPoints':'high', 'CityZone':'suburbs'}] = [0.5,0.5]\n",
    "net2.cpt(\"AlcoholAndDrugs\")[{'Richness':'low','SocialMeetingPoints':'high', 'CityZone':'downtown'}] = [0.3,0.7]\n",
    "net2.cpt(\"AlcoholAndDrugs\")[{'Richness':'low','SocialMeetingPoints':'low', 'CityZone':'suburbs'}] = [0.95,0.05]\n",
    "net2.cpt(\"AlcoholAndDrugs\")[{'Richness':'low','SocialMeetingPoints':'low', 'CityZone':'downtown'}] = [0.95,0.05]\n",
    "\n",
    "net2.cpt(\"Aggressions\")[{'CityZone':'downtown','AlcoholAndDrugs':'high', 'DayPeriod':'day'}] = [0.6,0.4]\n",
    "net2.cpt(\"Aggressions\")[{'CityZone':'downtown','AlcoholAndDrugs':'high', 'DayPeriod':'night'}] = [0.7,0.3]\n",
    "net2.cpt(\"Aggressions\")[{'CityZone':'downtown','AlcoholAndDrugs':'low', 'DayPeriod':'day'}] = [0.1,0.9]\n",
    "net2.cpt(\"Aggressions\")[{'CityZone':'downtown','AlcoholAndDrugs':'low', 'DayPeriod':'night'}] = [0.2,0.8]\n",
    "net2.cpt(\"Aggressions\")[{'CityZone':'suburbs','AlcoholAndDrugs':'high', 'DayPeriod':'day'}] = [0.8,0.2]\n",
    "net2.cpt(\"Aggressions\")[{'CityZone':'suburbs','AlcoholAndDrugs':'high', 'DayPeriod':'night'}] = [0.95,0.05]\n",
    "net2.cpt(\"Aggressions\")[{'CityZone':'suburbs','AlcoholAndDrugs':'low', 'DayPeriod':'day'}] = [0.7,0.3]\n",
    "net2.cpt(\"Aggressions\")[{'CityZone':'suburbs','AlcoholAndDrugs':'low', 'DayPeriod':'night'}] = [0.8,0.2]\n",
    "\n",
    "net2.cpt(\"PublicServices\")[{'Richness':'high'}] = [0.95,0.05]\n",
    "net2.cpt(\"PublicServices\")[{'Richness':'low'}] = [0.05,0.95]\n",
    "\n",
    "net2.cpt(\"LifeQuality\")[{'Aggressions':'high','Richness':'high', 'PublicServices':'high'}] = [0.8,0.2]\n",
    "net2.cpt(\"LifeQuality\")[{'Aggressions':'high','Richness':'high', 'PublicServices':'low'}] = [0.7,0.3]\n",
    "net2.cpt(\"LifeQuality\")[{'Aggressions':'high','Richness':'low', 'PublicServices':'high'}] = [0.6,0.4]\n",
    "net2.cpt(\"LifeQuality\")[{'Aggressions':'high','Richness':'low', 'PublicServices':'low'}] = [0.1,0.9]\n",
    "net2.cpt(\"LifeQuality\")[{'Aggressions':'low','Richness':'high', 'PublicServices':'high'}] = [0.95,0.05]\n",
    "net2.cpt(\"LifeQuality\")[{'Aggressions':'low','Richness':'high', 'PublicServices':'low'}] = [0.95,0.05]\n",
    "net2.cpt(\"LifeQuality\")[{'Aggressions':'low','Richness':'low', 'PublicServices':'high'}] = [0.7,0.3]\n",
    "net2.cpt(\"LifeQuality\")[{'Aggressions':'low','Richness':'low', 'PublicServices':'low'}] = [0.8,0.2]\n",
    "\n",
    "cm2 = csl.CausalModel(net2, [(\"JobAccessibility\", [\"Richness\"])])\n",
    "cslnb.showCausalImpact(cm2, \"SocialMeetingPoints\", doing={\"Richness\"})"
   ],
   "metadata": {
    "collapsed": false,
    "pycharm": {
     "name": "#%% \n",
     "is_executing": false
    }
   }
  },
  {
   "cell_type": "markdown",
   "source": [
    "## Calculate the causal effect of SocialMeetingPoints on Aggression.  \n",
    "In this scenario one parent of SocialMeetingPoints cannot be measured. So, let's say that\n",
    "CityZone is not accessible. To compute the causal effect of SocialMeetingPoints \n",
    "on Aggression it's not possible to apply the backdoor criterion because there's\n",
    "no set of variables that blocks every spurious path between SocialMeetingPoints \n",
    "and Aggression with an arrow into SocialMeetingPoints. For example the spurious path:  \n",
    "$$ SocialMeetingPoints \\leftarrow CityZone \\rightarrow Aggressions $$  \n",
    "In this scenario unfortunately we cannot apply the front-door criterion neither. The only\n",
    "variable that could be feasible to this criterion is AlcoholAndDrugs because it intercepts\n",
    "every directed path between SocialMeetingPoints and Aggression but there's a backdoor between\n",
    "SocialMeetingPoints and AlcoholAndDrugs that cannot be closed, as before. To conclude,\n",
    "in this situation we cannot estimate the casual effect of SocialMeetingPoints on Aggression."
   ],
   "metadata": {
    "collapsed": false
   }
  },
  {
   "cell_type": "markdown",
   "source": [
    "## Identify possible confounders between SocialMeetingPoints and Aggression.\n",
    "SocialMeetingPoints has 2 parents, CityZone and Richness. Both of them are part of different \n",
    "spurious path between SocialMeetingPoints and Aggression, so they are confounders. The aforementioned\n",
    "path are, for example:  \n",
    "$$ SocialMeetingPoints \\leftarrow CityZone \\rightarrow Aggressions $$\n",
    "$$ SocialMeetingPoints \\leftarrow Richness \\rightarrow AlcoholAndDrugs \\rightarrow Aggressions $$\n"
   ],
   "metadata": {
    "collapsed": false
   }
  },
  {
   "cell_type": "markdown",
   "source": [
    "## Would it be practically possible in your specific problem to perform also a randomized controlled study to disentangle the causal effect between the variables from their correlation?\n",
    "To perform a RCS we should pick some samples and vary the number of SocialMeetingPoints and let\n",
    "the other variables constant. But obviusly this kind of experiment cannot be done unless to do\n",
    "a great economic effort. FIX-ME ENGLISH"
   ],
   "metadata": {
    "collapsed": false
   }
  },
  {
   "cell_type": "markdown",
   "source": [
    "## Compute the ACE of SocialMeetingPoints on Aggression\n",
    "As i said before the it's not possible to estimate the casual effect of \n",
    "SocialMeetingPoints on Aggression. So it's not possible to compute the ACE."
   ],
   "metadata": {
    "collapsed": false
   }
  },
  {
   "cell_type": "markdown",
   "source": [
    "## StudyLevel-specific effect of PublicServices on LifeQuality and conditional intervention.\n",
    "According to the definition of z-specific effect, StudyLevel on it's own do not satisfy the \n",
    "backdoor criteria, so another variable must be chosen to accomplish the criterion. Unfortunately,\n",
    "the path: $$ PublicServices \\leftarrow Richness \\rightarrow LifeQuality $$  \n",
    "can be blocked only\n",
    "conditioning on Richess, but it is no accessible. Moreover, the front-door criteria is ussless\n",
    "because there's a direct path between PublicServices and LifeQuality. So the StudyLevel-specific effect cannot be \n",
    "evaluated and from this follow that the conditional intervention cannot be calculated too."
   ],
   "metadata": {
    "collapsed": false
   }
  },
  {
   "cell_type": "markdown",
   "source": [
    "## Identify possible mediating variables between Richness and AlcoholAndDrugs and calculate the CDE of AlcoholAndDrugs changing the value of Richness.\n",
    "X= Richness Y= AlcoholAndDrugs Mediating= SocialMeetingPoints Counfonder = CityZone  "
   ],
   "metadata": {
    "collapsed": false
   }
  },
  {
   "cell_type": "code",
   "execution_count": 44,
   "outputs": [
    {
     "name": "stdout",
     "text": [
      "CDE = 0.33 - 0.56 = -0.23000000000000004\n",
      "CDE = 0.6699999999999999 - 0.44000000000000006 = 0.22999999999999987\n",
      "CDE = 0.28 - 0.05 = 0.23000000000000004\n",
      "CDE = 0.7200000000000001 - 0.95 = -0.22999999999999987\n"
     ],
     "output_type": "stream"
    }
   ],
   "source": [
    "ci_R_T = csl.causalImpact(cm2,on={\"AlcoholAndDrugs\"},doing={\"Richness\",\"SocialMeetingPoints\"},values={\"SocialMeetingPoints\": 'high', \"Richness\":'high'})[1][1]\n",
    "ci_R_F = csl.causalImpact(cm2,on={\"AlcoholAndDrugs\"},doing={\"Richness\",\"SocialMeetingPoints\"},values={\"SocialMeetingPoints\": 'high', \"Richness\":'low'})[1][1]\n",
    "\n",
    "\n",
    "CDE = ci_R_T-ci_R_F\n",
    "print('CDE =', str(ci_R_T), '-', str(ci_R_F), '=', str(CDE))\n",
    "\n",
    "ci_R_T=csl.causalImpact(cm2,on={\"AlcoholAndDrugs\"},doing={\"Richness\",\"SocialMeetingPoints\"},values={\"SocialMeetingPoints\": 'high', \"Richness\":'high'})[1][0]\n",
    "ci_R_F=csl.causalImpact(cm2,on={\"AlcoholAndDrugs\"},doing={\"Richness\",\"SocialMeetingPoints\"},values={\"SocialMeetingPoints\": 'high', \"Richness\":'low'})[1][0]\n",
    "\n",
    "CDE= ci_R_T-ci_R_F\n",
    "print('CDE =', str(ci_R_T), '-', str(ci_R_F), '=', str(CDE))\n",
    "\n",
    "ci_R_T=csl.causalImpact(cm2,on={\"AlcoholAndDrugs\"},doing={\"Richness\",\"SocialMeetingPoints\"},values={\"SocialMeetingPoints\": 'low', \"Richness\":'high'})[1][1]\n",
    "ci_R_F=csl.causalImpact(cm2,on={\"AlcoholAndDrugs\"},doing={\"Richness\",\"SocialMeetingPoints\"},values={\"SocialMeetingPoints\": 'low', \"Richness\":'low'})[1][1]\n",
    "\n",
    "CDE= ci_R_T-ci_R_F\n",
    "print('CDE =', str(ci_R_T), '-', str(ci_R_F), '=', str(CDE))\n",
    "\n",
    "ci_R_T=csl.causalImpact(cm2,on={\"AlcoholAndDrugs\"},doing={\"Richness\",\"SocialMeetingPoints\"},values={\"SocialMeetingPoints\": 'low', \"Richness\":'high'})[1][0]\n",
    "ci_R_F=csl.causalImpact(cm2,on={\"AlcoholAndDrugs\"},doing={\"Richness\",\"SocialMeetingPoints\"},values={\"SocialMeetingPoints\": 'low', \"Richness\":'low'})[1][0]\n",
    "\n",
    "CDE= ci_R_T-ci_R_F\n",
    "print('CDE =', str(ci_R_T), '-', str(ci_R_F), '=', str(CDE))\n"
   ],
   "metadata": {
    "collapsed": false,
    "pycharm": {
     "name": "#%%\n",
     "is_executing": false
    }
   }
  }
 ],
 "metadata": {
  "colab": {
   "collapsed_sections": [],
   "include_colab_link": true,
   "name": "Untitled2.ipynb",
   "provenance": []
  },
  "kernelspec": {
   "name": "pycharm-3044a075",
   "language": "python",
   "display_name": "PyCharm (AI-CausalInference)"
  },
  "language_info": {
   "codemirror_mode": {
    "name": "ipython",
    "version": 3
   },
   "file_extension": ".py",
   "mimetype": "text/x-python",
   "name": "python",
   "nbconvert_exporter": "python",
   "pygments_lexer": "ipython3",
   "version": "3.7.5"
  },
  "pycharm": {
   "stem_cell": {
    "cell_type": "raw",
    "source": [],
    "metadata": {
     "collapsed": false
    }
   }
  }
 },
 "nbformat": 4,
 "nbformat_minor": 1
}