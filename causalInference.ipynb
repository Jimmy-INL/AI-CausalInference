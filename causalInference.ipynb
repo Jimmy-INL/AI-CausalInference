{
  "nbformat": 4,
  "nbformat_minor": 0,
  "metadata": {
    "colab": {
      "name": "Untitled2.ipynb",
      "provenance": [],
      "collapsed_sections": [],
      "include_colab_link": true
    },
    "kernelspec": {
      "name": "python3",
      "display_name": "Python 3"
    }
  },
  "cells": [
    {
      "cell_type": "markdown",
      "metadata": {
        "id": "view-in-github",
        "colab_type": "text"
      },
      "source": [
        "<a href=\"https://colab.research.google.com/github/lbrena2/AI-CausalInference/blob/master/causalInference.ipynb\" target=\"_parent\"><img src=\"https://colab.research.google.com/assets/colab-badge.svg\" alt=\"Open In Colab\"/></a>"
      ]
    },
    {
      "cell_type": "code",
      "metadata": {
        "id": "DmxviQBawFn5",
        "colab_type": "code",
        "colab": {}
      },
      "source": [
        "from IPython.display import display, Math, Latex, HTML\n",
        "\n",
        "import pyAgrum as gum\n",
        "import pyAgrum.lib.notebook as gnb\n",
        "import pyAgrum.causal as csl\n",
        "import pyAgrum.causal.notebook as cslnb\n",
        "import os"
      ],
      "execution_count": 0,
      "outputs": []
    }
  ]
}